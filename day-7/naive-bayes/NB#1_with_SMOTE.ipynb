{
 "cells": [
  {
   "cell_type": "markdown",
   "id": "ab2418ad",
   "metadata": {},
   "source": [
    "NAIVE BAYES"
   ]
  },
  {
   "cell_type": "code",
   "execution_count": 1,
   "id": "3107a014",
   "metadata": {
    "vscode": {
     "languageId": "markdown"
    }
   },
   "outputs": [],
   "source": [
    "# Naive Bayes is a family of simple yet effective probabilistic classifiers based on Bayes' Theorem, with the \"naive\" assumption that features are independent given the class label. It is widely used for classification tasks, especially in text classification and spam detection.\n",
    "\n",
    "# Types of Naive Bayes Classifiers:\n",
    "\n",
    "# 1. Gaussian Naive Bayes:  \n",
    "#    Assumes that the features follow a normal (Gaussian) distribution. Commonly used when features are continuous.\n",
    "\n",
    "# 2. Multinomial Naive Bayes:  \n",
    " #   Suitable for discrete features, such as word counts in text classification. It models the distribution of features as multinomial.\n",
    "\n",
    "# 3. Bernoulli Naive Bayes:  \n",
    "  #  Designed for binary/boolean features. It models each feature as being present or absent.\n",
    "\n",
    "# Each type of Naive Bayes classifier is best suited for different types of data and applications."
   ]
  },
  {
   "cell_type": "code",
   "execution_count": 2,
   "metadata": {},
   "outputs": [],
   "source": [
    "import pandas as pd\n",
    "import numpy as np\n",
    "from sklearn.model_selection import train_test_split\n",
    "from sklearn.naive_bayes import GaussianNB\n",
    "from sklearn.metrics import accuracy_score, confusion_matrix, classification_report\n",
    "import seaborn as sns\n",
    "import matplotlib.pyplot as plt"
   ]
  },
  {
   "cell_type": "code",
   "execution_count": 3,
   "id": "32c77ba8",
   "metadata": {},
   "outputs": [
    {
     "data": {
      "text/html": [
       "<div>\n",
       "<style scoped>\n",
       "    .dataframe tbody tr th:only-of-type {\n",
       "        vertical-align: middle;\n",
       "    }\n",
       "\n",
       "    .dataframe tbody tr th {\n",
       "        vertical-align: top;\n",
       "    }\n",
       "\n",
       "    .dataframe thead th {\n",
       "        text-align: right;\n",
       "    }\n",
       "</style>\n",
       "<table border=\"1\" class=\"dataframe\">\n",
       "  <thead>\n",
       "    <tr style=\"text-align: right;\">\n",
       "      <th></th>\n",
       "      <th>water_quality</th>\n",
       "      <th>air_quality_index</th>\n",
       "      <th>biodiversity_index</th>\n",
       "      <th>vegetation_cover</th>\n",
       "      <th>soil_ph</th>\n",
       "      <th>ecosystem_health</th>\n",
       "    </tr>\n",
       "  </thead>\n",
       "  <tbody>\n",
       "    <tr>\n",
       "      <th>0</th>\n",
       "      <td>37.454012</td>\n",
       "      <td>112.092246</td>\n",
       "      <td>0.729998</td>\n",
       "      <td>63.814457</td>\n",
       "      <td>5.144016</td>\n",
       "      <td>degraded</td>\n",
       "    </tr>\n",
       "    <tr>\n",
       "      <th>1</th>\n",
       "      <td>95.071431</td>\n",
       "      <td>99.873629</td>\n",
       "      <td>0.184512</td>\n",
       "      <td>45.929245</td>\n",
       "      <td>4.021498</td>\n",
       "      <td>degraded</td>\n",
       "    </tr>\n",
       "    <tr>\n",
       "      <th>2</th>\n",
       "      <td>73.199394</td>\n",
       "      <td>52.846174</td>\n",
       "      <td>0.346640</td>\n",
       "      <td>96.449852</td>\n",
       "      <td>4.194976</td>\n",
       "      <td>degraded</td>\n",
       "    </tr>\n",
       "    <tr>\n",
       "      <th>3</th>\n",
       "      <td>59.865848</td>\n",
       "      <td>182.180001</td>\n",
       "      <td>0.663281</td>\n",
       "      <td>21.897845</td>\n",
       "      <td>4.493691</td>\n",
       "      <td>degraded</td>\n",
       "    </tr>\n",
       "    <tr>\n",
       "      <th>4</th>\n",
       "      <td>15.601864</td>\n",
       "      <td>142.987248</td>\n",
       "      <td>0.482089</td>\n",
       "      <td>58.785642</td>\n",
       "      <td>4.620093</td>\n",
       "      <td>degraded</td>\n",
       "    </tr>\n",
       "    <tr>\n",
       "      <th>...</th>\n",
       "      <td>...</td>\n",
       "      <td>...</td>\n",
       "      <td>...</td>\n",
       "      <td>...</td>\n",
       "      <td>...</td>\n",
       "      <td>...</td>\n",
       "    </tr>\n",
       "    <tr>\n",
       "      <th>9995</th>\n",
       "      <td>85.765599</td>\n",
       "      <td>263.111589</td>\n",
       "      <td>0.952275</td>\n",
       "      <td>75.403391</td>\n",
       "      <td>6.923449</td>\n",
       "      <td>degraded</td>\n",
       "    </tr>\n",
       "    <tr>\n",
       "      <th>9996</th>\n",
       "      <td>89.750884</td>\n",
       "      <td>14.044187</td>\n",
       "      <td>0.747824</td>\n",
       "      <td>76.452694</td>\n",
       "      <td>4.744065</td>\n",
       "      <td>at risk</td>\n",
       "    </tr>\n",
       "    <tr>\n",
       "      <th>9997</th>\n",
       "      <td>94.670792</td>\n",
       "      <td>91.109541</td>\n",
       "      <td>0.019456</td>\n",
       "      <td>26.956943</td>\n",
       "      <td>7.619473</td>\n",
       "      <td>degraded</td>\n",
       "    </tr>\n",
       "    <tr>\n",
       "      <th>9998</th>\n",
       "      <td>39.748799</td>\n",
       "      <td>132.996002</td>\n",
       "      <td>0.401005</td>\n",
       "      <td>43.431977</td>\n",
       "      <td>6.365560</td>\n",
       "      <td>degraded</td>\n",
       "    </tr>\n",
       "    <tr>\n",
       "      <th>9999</th>\n",
       "      <td>21.714040</td>\n",
       "      <td>51.679444</td>\n",
       "      <td>0.257398</td>\n",
       "      <td>48.742370</td>\n",
       "      <td>8.239387</td>\n",
       "      <td>degraded</td>\n",
       "    </tr>\n",
       "  </tbody>\n",
       "</table>\n",
       "<p>10000 rows × 6 columns</p>\n",
       "</div>"
      ],
      "text/plain": [
       "      water_quality  air_quality_index  biodiversity_index  vegetation_cover  \\\n",
       "0         37.454012         112.092246            0.729998         63.814457   \n",
       "1         95.071431          99.873629            0.184512         45.929245   \n",
       "2         73.199394          52.846174            0.346640         96.449852   \n",
       "3         59.865848         182.180001            0.663281         21.897845   \n",
       "4         15.601864         142.987248            0.482089         58.785642   \n",
       "...             ...                ...                 ...               ...   \n",
       "9995      85.765599         263.111589            0.952275         75.403391   \n",
       "9996      89.750884          14.044187            0.747824         76.452694   \n",
       "9997      94.670792          91.109541            0.019456         26.956943   \n",
       "9998      39.748799         132.996002            0.401005         43.431977   \n",
       "9999      21.714040          51.679444            0.257398         48.742370   \n",
       "\n",
       "       soil_ph ecosystem_health  \n",
       "0     5.144016         degraded  \n",
       "1     4.021498         degraded  \n",
       "2     4.194976         degraded  \n",
       "3     4.493691         degraded  \n",
       "4     4.620093         degraded  \n",
       "...        ...              ...  \n",
       "9995  6.923449         degraded  \n",
       "9996  4.744065          at risk  \n",
       "9997  7.619473         degraded  \n",
       "9998  6.365560         degraded  \n",
       "9999  8.239387         degraded  \n",
       "\n",
       "[10000 rows x 6 columns]"
      ]
     },
     "execution_count": 3,
     "metadata": {},
     "output_type": "execute_result"
    }
   ],
   "source": [
    "#load the dataset\n",
    "data = pd.read_csv(r'D:\\PYTHON\\Edunet2.0\\day-7\\ecosystem_data.csv')\n",
    "data"
   ]
  },
  {
   "cell_type": "code",
   "execution_count": 4,
   "id": "74bf9742",
   "metadata": {},
   "outputs": [
    {
     "data": {
      "text/plain": [
       "array(['degraded', 'at risk', 'healthy'], dtype=object)"
      ]
     },
     "execution_count": 4,
     "metadata": {},
     "output_type": "execute_result"
    }
   ],
   "source": [
    "data['ecosystem_health'].unique()"
   ]
  },
  {
   "cell_type": "code",
   "execution_count": 5,
   "id": "f3f9149b",
   "metadata": {},
   "outputs": [
    {
     "data": {
      "text/html": [
       "<div>\n",
       "<style scoped>\n",
       "    .dataframe tbody tr th:only-of-type {\n",
       "        vertical-align: middle;\n",
       "    }\n",
       "\n",
       "    .dataframe tbody tr th {\n",
       "        vertical-align: top;\n",
       "    }\n",
       "\n",
       "    .dataframe thead th {\n",
       "        text-align: right;\n",
       "    }\n",
       "</style>\n",
       "<table border=\"1\" class=\"dataframe\">\n",
       "  <thead>\n",
       "    <tr style=\"text-align: right;\">\n",
       "      <th></th>\n",
       "      <th>water_quality</th>\n",
       "      <th>air_quality_index</th>\n",
       "      <th>biodiversity_index</th>\n",
       "      <th>vegetation_cover</th>\n",
       "      <th>soil_ph</th>\n",
       "      <th>ecosystem_health</th>\n",
       "    </tr>\n",
       "  </thead>\n",
       "  <tbody>\n",
       "    <tr>\n",
       "      <th>0</th>\n",
       "      <td>37.454012</td>\n",
       "      <td>112.092246</td>\n",
       "      <td>0.729998</td>\n",
       "      <td>63.814457</td>\n",
       "      <td>5.144016</td>\n",
       "      <td>2</td>\n",
       "    </tr>\n",
       "    <tr>\n",
       "      <th>1</th>\n",
       "      <td>95.071431</td>\n",
       "      <td>99.873629</td>\n",
       "      <td>0.184512</td>\n",
       "      <td>45.929245</td>\n",
       "      <td>4.021498</td>\n",
       "      <td>2</td>\n",
       "    </tr>\n",
       "    <tr>\n",
       "      <th>2</th>\n",
       "      <td>73.199394</td>\n",
       "      <td>52.846174</td>\n",
       "      <td>0.346640</td>\n",
       "      <td>96.449852</td>\n",
       "      <td>4.194976</td>\n",
       "      <td>2</td>\n",
       "    </tr>\n",
       "    <tr>\n",
       "      <th>3</th>\n",
       "      <td>59.865848</td>\n",
       "      <td>182.180001</td>\n",
       "      <td>0.663281</td>\n",
       "      <td>21.897845</td>\n",
       "      <td>4.493691</td>\n",
       "      <td>2</td>\n",
       "    </tr>\n",
       "    <tr>\n",
       "      <th>4</th>\n",
       "      <td>15.601864</td>\n",
       "      <td>142.987248</td>\n",
       "      <td>0.482089</td>\n",
       "      <td>58.785642</td>\n",
       "      <td>4.620093</td>\n",
       "      <td>2</td>\n",
       "    </tr>\n",
       "    <tr>\n",
       "      <th>...</th>\n",
       "      <td>...</td>\n",
       "      <td>...</td>\n",
       "      <td>...</td>\n",
       "      <td>...</td>\n",
       "      <td>...</td>\n",
       "      <td>...</td>\n",
       "    </tr>\n",
       "    <tr>\n",
       "      <th>9995</th>\n",
       "      <td>85.765599</td>\n",
       "      <td>263.111589</td>\n",
       "      <td>0.952275</td>\n",
       "      <td>75.403391</td>\n",
       "      <td>6.923449</td>\n",
       "      <td>2</td>\n",
       "    </tr>\n",
       "    <tr>\n",
       "      <th>9996</th>\n",
       "      <td>89.750884</td>\n",
       "      <td>14.044187</td>\n",
       "      <td>0.747824</td>\n",
       "      <td>76.452694</td>\n",
       "      <td>4.744065</td>\n",
       "      <td>0</td>\n",
       "    </tr>\n",
       "    <tr>\n",
       "      <th>9997</th>\n",
       "      <td>94.670792</td>\n",
       "      <td>91.109541</td>\n",
       "      <td>0.019456</td>\n",
       "      <td>26.956943</td>\n",
       "      <td>7.619473</td>\n",
       "      <td>2</td>\n",
       "    </tr>\n",
       "    <tr>\n",
       "      <th>9998</th>\n",
       "      <td>39.748799</td>\n",
       "      <td>132.996002</td>\n",
       "      <td>0.401005</td>\n",
       "      <td>43.431977</td>\n",
       "      <td>6.365560</td>\n",
       "      <td>2</td>\n",
       "    </tr>\n",
       "    <tr>\n",
       "      <th>9999</th>\n",
       "      <td>21.714040</td>\n",
       "      <td>51.679444</td>\n",
       "      <td>0.257398</td>\n",
       "      <td>48.742370</td>\n",
       "      <td>8.239387</td>\n",
       "      <td>2</td>\n",
       "    </tr>\n",
       "  </tbody>\n",
       "</table>\n",
       "<p>10000 rows × 6 columns</p>\n",
       "</div>"
      ],
      "text/plain": [
       "      water_quality  air_quality_index  biodiversity_index  vegetation_cover  \\\n",
       "0         37.454012         112.092246            0.729998         63.814457   \n",
       "1         95.071431          99.873629            0.184512         45.929245   \n",
       "2         73.199394          52.846174            0.346640         96.449852   \n",
       "3         59.865848         182.180001            0.663281         21.897845   \n",
       "4         15.601864         142.987248            0.482089         58.785642   \n",
       "...             ...                ...                 ...               ...   \n",
       "9995      85.765599         263.111589            0.952275         75.403391   \n",
       "9996      89.750884          14.044187            0.747824         76.452694   \n",
       "9997      94.670792          91.109541            0.019456         26.956943   \n",
       "9998      39.748799         132.996002            0.401005         43.431977   \n",
       "9999      21.714040          51.679444            0.257398         48.742370   \n",
       "\n",
       "       soil_ph  ecosystem_health  \n",
       "0     5.144016                 2  \n",
       "1     4.021498                 2  \n",
       "2     4.194976                 2  \n",
       "3     4.493691                 2  \n",
       "4     4.620093                 2  \n",
       "...        ...               ...  \n",
       "9995  6.923449                 2  \n",
       "9996  4.744065                 0  \n",
       "9997  7.619473                 2  \n",
       "9998  6.365560                 2  \n",
       "9999  8.239387                 2  \n",
       "\n",
       "[10000 rows x 6 columns]"
      ]
     },
     "execution_count": 5,
     "metadata": {},
     "output_type": "execute_result"
    }
   ],
   "source": [
    "data['ecosystem_health'] = data['ecosystem_health'].map({'healthy': 1, 'at risk': 0, 'degraded': 2})\n",
    "data"
   ]
  },
  {
   "cell_type": "code",
   "execution_count": 6,
   "id": "57561e01",
   "metadata": {},
   "outputs": [],
   "source": [
    "X = data[['water_quality','air_quality_index','biodiversity_index','vegetation_cover','soil_ph']]\n",
    "y = data['ecosystem_health']\n",
    "# Split the dataset into training and testing sets\n",
    "X_train, X_test, y_train, y_test = train_test_split(X, y, test_size=0.2, random_state=42)\n"
   ]
  },
  {
   "cell_type": "code",
   "execution_count": 7,
   "id": "4fb059f4",
   "metadata": {},
   "outputs": [
    {
     "name": "stdout",
     "output_type": "stream",
     "text": [
      "Accuracy: 95.15%\n"
     ]
    }
   ],
   "source": [
    "# Create a Gaussian Naive Bayes classifier\n",
    "gnb = GaussianNB()\n",
    "# Train the classifier\n",
    "gnb.fit(X_train, y_train)\n",
    "# Make predictions on the test set\n",
    "y_pred = gnb.predict(X_test)\n",
    "# Evaluate the classifier\n",
    "accuracy = accuracy_score(y_test, y_pred)\n",
    "print(f'Accuracy: {accuracy * 100:.2f}%')\n"
   ]
  },
  {
   "cell_type": "code",
   "execution_count": 8,
   "id": "35563ad8",
   "metadata": {},
   "outputs": [
    {
     "data": {
      "image/png": "[encoded data removed]",
      "text/plain": [
       "<Figure size 800x600 with 2 Axes>"
      ]
     },
     "metadata": {},
     "output_type": "display_data"
    }
   ],
   "source": [
    "#confusion matrix\n",
    "cm = confusion_matrix(y_test, y_pred)\n",
    "plt.figure(figsize=(8, 6))\n",
    "sns.heatmap(cm, annot=True, fmt='d', cmap='Blues', xticklabels=['Healthy', 'At Risk', 'Degraded'], yticklabels=['Healthy', 'At Risk', 'Degraded'])\n",
    "plt.title('Confusion Matrix')\n",
    "plt.xlabel('Predicted')\n",
    "plt.ylabel('Actual')\n",
    "plt.show()\n"
   ]
  },
  {
   "cell_type": "code",
   "execution_count": 9,
   "id": "66964ad0",
   "metadata": {},
   "outputs": [
    {
     "data": {
      "text/plain": [
       "['ecosystem_health_model.pkl']"
      ]
     },
     "execution_count": 9,
     "metadata": {},
     "output_type": "execute_result"
    }
   ],
   "source": [
    "#save the model \n",
    "import joblib\n",
    "joblib.dump(gnb, 'ecosystem_health_model.pkl')\n"
   ]
  },
  {
   "cell_type": "code",
   "execution_count": 10,
   "id": "8d62b535",
   "metadata": {},
   "outputs": [
    {
     "name": "stdout",
     "output_type": "stream",
     "text": [
      "Predicted Ecosystem Health:\n",
      "Degraded\n"
     ]
    },
    {
     "name": "stderr",
     "output_type": "stream",
     "text": [
      "C:\\Users\\athar\\AppData\\Local\\Packages\\PythonSoftwareFoundation.Python.3.11_qbz5n2kfra8p0\\LocalCache\\local-packages\\Python311\\site-packages\\sklearn\\base.py:465: UserWarning: X does not have valid feature names, but GaussianNB was fitted with feature names\n",
      "  warnings.warn(\n"
     ]
    }
   ],
   "source": [
    "wq = float(input(\"Enter water quality index: \"))\n",
    "aqi = float(input(\"Enter air quality index: \"))\n",
    "biodiversity = float(input(\"Enter biodiversity index: \"))\n",
    "veg_cover = float(input(\"Enter vegetation cover index: \"))\n",
    "soil_ph = float(input(\"Enter soil pH index: \"))\n",
    "# Predict the ecosystem health based on user input\n",
    "user_input = np.array([[wq, aqi, biodiversity, veg_cover, soil_ph]])\n",
    "predicted_health = gnb.predict(user_input)\n",
    "print(\"Predicted Ecosystem Health:\")\n",
    "if predicted_health == 1:\n",
    "    print(\"Healthy\")\n",
    "elif predicted_health == 0:\n",
    "    print(\"At Risk\")\n",
    "elif predicted_health == 2:\n",
    "    print(\"Degraded\")\n",
    "    \n",
    "\n"
   ]
  },
  {
   "cell_type": "code",
   "execution_count": 11,
   "id": "14fd5542",
   "metadata": {},
   "outputs": [
    {
     "name": "stdout",
     "output_type": "stream",
     "text": [
      "Requirement already satisfied: imblearn in c:\\users\\athar\\appdata\\local\\packages\\pythonsoftwarefoundation.python.3.11_qbz5n2kfra8p0\\localcache\\local-packages\\python311\\site-packages (0.0)\n",
      "Requirement already satisfied: imbalanced-learn in c:\\users\\athar\\appdata\\local\\packages\\pythonsoftwarefoundation.python.3.11_qbz5n2kfra8p0\\localcache\\local-packages\\python311\\site-packages (from imblearn) (0.13.0)\n",
      "Requirement already satisfied: numpy<3,>=1.24.3 in c:\\users\\athar\\appdata\\local\\packages\\pythonsoftwarefoundation.python.3.11_qbz5n2kfra8p0\\localcache\\local-packages\\python311\\site-packages (from imbalanced-learn->imblearn) (1.24.3)\n",
      "Requirement already satisfied: scipy<2,>=1.10.1 in c:\\users\\athar\\appdata\\local\\packages\\pythonsoftwarefoundation.python.3.11_qbz5n2kfra8p0\\localcache\\local-packages\\python311\\site-packages (from imbalanced-learn->imblearn) (1.15.2)\n",
      "Requirement already satisfied: scikit-learn<2,>=1.3.2 in c:\\users\\athar\\appdata\\local\\packages\\pythonsoftwarefoundation.python.3.11_qbz5n2kfra8p0\\localcache\\local-packages\\python311\\site-packages (from imbalanced-learn->imblearn) (1.3.2)\n",
      "Requirement already satisfied: sklearn-compat<1,>=0.1 in c:\\users\\athar\\appdata\\local\\packages\\pythonsoftwarefoundation.python.3.11_qbz5n2kfra8p0\\localcache\\local-packages\\python311\\site-packages (from imbalanced-learn->imblearn) (0.1.3)\n",
      "Requirement already satisfied: joblib<2,>=1.1.1 in c:\\users\\athar\\appdata\\local\\packages\\pythonsoftwarefoundation.python.3.11_qbz5n2kfra8p0\\localcache\\local-packages\\python311\\site-packages (from imbalanced-learn->imblearn) (1.4.2)\n",
      "Requirement already satisfied: threadpoolctl<4,>=2.0.0 in c:\\users\\athar\\appdata\\local\\packages\\pythonsoftwarefoundation.python.3.11_qbz5n2kfra8p0\\localcache\\local-packages\\python311\\site-packages (from imbalanced-learn->imblearn) (3.5.0)\n",
      "Note: you may need to restart the kernel to use updated packages.\n"
     ]
    },
    {
     "name": "stderr",
     "output_type": "stream",
     "text": [
      "\n",
      "[notice] A new release of pip is available: 25.0.1 -> 25.1.1\n",
      "[notice] To update, run: C:\\Users\\athar\\AppData\\Local\\Microsoft\\WindowsApps\\PythonSoftwareFoundation.Python.3.11_qbz5n2kfra8p0\\python.exe -m pip install --upgrade pip\n"
     ]
    },
    {
     "name": "stdout",
     "output_type": "stream",
     "text": [
      "Accuracy after SMOTE: 94.54%\n"
     ]
    },
    {
     "data": {
      "image/png": "[encoded data removed]",
      "text/plain": [
       "<Figure size 800x600 with 2 Axes>"
      ]
     },
     "metadata": {},
     "output_type": "display_data"
    },
    {
     "name": "stdout",
     "output_type": "stream",
     "text": [
      "Predicted Ecosystem Health after SMOTE:\n",
      "Degraded\n"
     ]
    },
    {
     "name": "stderr",
     "output_type": "stream",
     "text": [
      "C:\\Users\\athar\\AppData\\Local\\Packages\\PythonSoftwareFoundation.Python.3.11_qbz5n2kfra8p0\\LocalCache\\local-packages\\Python311\\site-packages\\sklearn\\base.py:465: UserWarning: X does not have valid feature names, but GaussianNB was fitted with feature names\n",
      "  warnings.warn(\n"
     ]
    },
    {
     "data": {
      "text/plain": [
       "['ecosystem_health_model_smote.pkl']"
      ]
     },
     "execution_count": 11,
     "metadata": {},
     "output_type": "execute_result"
    }
   ],
   "source": [
    "\n",
    "%pip install imblearn\n",
    "\n",
    "#smote analysis\n",
    "from imblearn.over_sampling import SMOTE\n",
    "# Apply SMOTE to balance the dataset\n",
    "smote = SMOTE(random_state=42)\n",
    "X_resampled, y_resampled = smote.fit_resample(X, y)\n",
    "# Split the resampled dataset into training and testing sets\n",
    "X_train_resampled, X_test_resampled, y_train_resampled, y_test_resampled = train_test_split(X_resampled, y_resampled, test_size=0.2, random_state=42)\n",
    "# Create a new Gaussian Naive Bayes classifier\n",
    "gnb_resampled = GaussianNB()\n",
    "# Train the classifier on the resampled data\n",
    "gnb_resampled.fit(X_train_resampled, y_train_resampled)\n",
    "# Make predictions on the resampled test set\n",
    "y_pred_resampled = gnb_resampled.predict(X_test_resampled)\n",
    "# Evaluate the classifier on the resampled data\n",
    "accuracy_resampled = accuracy_score(y_test_resampled, y_pred_resampled)\n",
    "print(f'Accuracy after SMOTE: {accuracy_resampled * 100:.2f}%')\n",
    "# Confusion matrix for the resampled data\n",
    "cm_resampled = confusion_matrix(y_test_resampled, y_pred_resampled)\n",
    "plt.figure(figsize=(8, 6))\n",
    "sns.heatmap(cm_resampled, annot=True, fmt='d', cmap='Blues', xticklabels=['Healthy', 'At Risk', 'Degraded'], yticklabels=['Healthy', 'At Risk', 'Degraded'])\n",
    "plt.title('Confusion Matrix after SMOTE')\n",
    "plt.xlabel('Predicted')\n",
    "plt.ylabel('Actual')\n",
    "plt.show()\n",
    "\n",
    "# Save the resampled model\n",
    "joblib.dump(gnb_resampled, 'ecosystem_health_model_resampled.pkl')\n",
    "# Predict the ecosystem health based on user input after SMOTE\n",
    "user_input_resampled = np.array([[wq, aqi, biodiversity, veg_cover, soil_ph]])\n",
    "predicted_health_resampled = gnb_resampled.predict(user_input_resampled)\n",
    "print(\"Predicted Ecosystem Health after SMOTE:\")\n",
    "if predicted_health_resampled == 1:\n",
    "    print(\"Healthy\")\n",
    "elif predicted_health_resampled == 0:\n",
    "    print(\"At Risk\")\n",
    "elif predicted_health_resampled == 2:\n",
    "    print(\"Degraded\")\n",
    "# Save the model with SMOTE applied\n",
    "joblib.dump(gnb_resampled, 'ecosystem_health_model_smote.pkl')\n"
   ]
  }
 ],
 "metadata": {
  "kernelspec": {
   "display_name": "Python 3",
   "language": "python",
   "name": "python3"
  },
  "language_info": {
   "codemirror_mode": {
    "name": "ipython",
    "version": 3
   },
   "file_extension": ".py",
   "mimetype": "text/x-python",
   "name": "python",
   "nbconvert_exporter": "python",
   "pygments_lexer": "ipython3",
   "version": "3.11.9"
  }
 },
 "nbformat": 4,
 "nbformat_minor": 5
}
