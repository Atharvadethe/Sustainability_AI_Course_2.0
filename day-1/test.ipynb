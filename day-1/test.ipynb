{
 "cells": [
  {
   "cell_type": "code",
   "execution_count": 1,
   "id": "a6e70b02",
   "metadata": {},
   "outputs": [
    {
     "name": "stdout",
     "output_type": "stream",
     "text": [
      "hello world\n"
     ]
    }
   ],
   "source": [
    "print(\"hello world\")"
   ]
  },
  {
   "cell_type": "code",
   "execution_count": 2,
   "id": "38b99a7f",
   "metadata": {},
   "outputs": [
    {
     "name": "stdout",
     "output_type": "stream",
     "text": [
      "9\n"
     ]
    }
   ],
   "source": [
    "print(9)"
   ]
  },
  {
   "cell_type": "code",
   "execution_count": null,
   "id": "ff8d8508",
   "metadata": {},
   "outputs": [],
   "source": [
    "#this is a comment"
   ]
  },
  {
   "cell_type": "code",
   "execution_count": 3,
   "id": "e9e0bd3c",
   "metadata": {},
   "outputs": [
    {
     "name": "stdout",
     "output_type": "stream",
     "text": [
      "a is less than b\n",
      "hello SIT\n",
      "outside if block\n"
     ]
    }
   ],
   "source": [
    "a=10\n",
    "b=20\n",
    "if(a < b):\n",
    "    print(\"a is less than b\")\n",
    "    print(\"hello SIT\")\n",
    "print(\"outside if block\")"
   ]
  },
  {
   "cell_type": "code",
   "execution_count": null,
   "id": "5f651e24",
   "metadata": {},
   "outputs": [
    {
     "name": "stdout",
     "output_type": "stream",
     "text": [
      "['False', 'None', 'True', 'and', 'as', 'assert', 'async', 'await', 'break', 'class', 'continue', 'def', 'del', 'elif', 'else', 'except', 'finally', 'for', 'from', 'global', 'if', 'import', 'in', 'is', 'lambda', 'nonlocal', 'not', 'or', 'pass', 'raise', 'return', 'try', 'while', 'with', 'yield']\n",
      "['ArithmeticError', 'AssertionError', 'AttributeError', 'BaseException', 'BaseExceptionGroup', 'BlockingIOError', 'BrokenPipeError', 'BufferError', 'BytesWarning', 'ChildProcessError', 'ConnectionAbortedError', 'ConnectionError', 'ConnectionRefusedError', 'ConnectionResetError', 'DeprecationWarning', 'EOFError', 'Ellipsis', 'EncodingWarning', 'EnvironmentError', 'Exception', 'ExceptionGroup', 'False', 'FileExistsError', 'FileNotFoundError', 'FloatingPointError', 'FutureWarning', 'GeneratorExit', 'IOError', 'ImportError', 'ImportWarning', 'IndentationError', 'IndexError', 'InterruptedError', 'IsADirectoryError', 'KeyError', 'KeyboardInterrupt', 'LookupError', 'MemoryError', 'ModuleNotFoundError', 'NameError', 'None', 'NotADirectoryError', 'NotImplemented', 'NotImplementedError', 'OSError', 'OverflowError', 'PendingDeprecationWarning', 'PermissionError', 'ProcessLookupError', 'RecursionError', 'ReferenceError', 'ResourceWarning', 'RuntimeError', 'RuntimeWarning', 'StopAsyncIteration', 'StopIteration', 'SyntaxError', 'SyntaxWarning', 'SystemError', 'SystemExit', 'TabError', 'TimeoutError', 'True', 'TypeError', 'UnboundLocalError', 'UnicodeDecodeError', 'UnicodeEncodeError', 'UnicodeError', 'UnicodeTranslateError', 'UnicodeWarning', 'UserWarning', 'ValueError', 'Warning', 'WindowsError', 'ZeroDivisionError', '__IPYTHON__', '__build_class__', '__debug__', '__doc__', '__import__', '__loader__', '__name__', '__package__', '__spec__', 'abs', 'aiter', 'all', 'anext', 'any', 'ascii', 'bin', 'bool', 'breakpoint', 'bytearray', 'bytes', 'callable', 'chr', 'classmethod', 'compile', 'complex', 'copyright', 'credits', 'delattr', 'dict', 'dir', 'display', 'divmod', 'enumerate', 'eval', 'exec', 'execfile', 'filter', 'float', 'format', 'frozenset', 'get_ipython', 'getattr', 'globals', 'hasattr', 'hash', 'help', 'hex', 'id', 'input', 'int', 'isinstance', 'issubclass', 'iter', 'len', 'license', 'list', 'locals', 'map', 'max', 'memoryview', 'min', 'next', 'object', 'oct', 'open', 'ord', 'pow', 'print', 'property', 'range', 'repr', 'reversed', 'round', 'runfile', 'set', 'setattr', 'slice', 'sorted', 'staticmethod', 'str', 'sum', 'super', 'tuple', 'type', 'vars', 'zip']\n"
     ]
    }
   ],
   "source": [
    "#list all the python keywords\n",
    "import keyword\n",
    "print(keyword.kwlist)\n",
    "\n",
    "#list all the python built-in functions\n",
    "import builtins\n",
    "print(dir(builtins))\n"
   ]
  },
  {
   "cell_type": "code",
   "execution_count": 5,
   "id": "b5f4d133",
   "metadata": {},
   "outputs": [
    {
     "name": "stdout",
     "output_type": "stream",
     "text": [
      "Carbon Footprint: 20, City: Bangalore\n"
     ]
    }
   ],
   "source": [
    "\n",
    "carbon_footprint = 20\n",
    "city = \"Bangalore\"\n",
    "print(f\"Carbon Footprint: {carbon_footprint}, City: {city}\")"
   ]
  },
  {
   "cell_type": "code",
   "execution_count": null,
   "id": "d846c22d",
   "metadata": {},
   "outputs": [],
   "source": [
    "#take input from user\n",
    "name = input(\"Enter your name: \")\n",
    "print(f\"Hello, {name}!\")"
   ]
  },
  {
   "cell_type": "code",
   "execution_count": 10,
   "id": "960696cd",
   "metadata": {},
   "outputs": [
    {
     "name": "stdout",
     "output_type": "stream",
     "text": [
      "Variables: , , , , \n",
      "Types: <class 'str'>, <class 'str'>, <class 'str'>, <class 'str'>, <class 'str'>\n"
     ]
    }
   ],
   "source": [
    "a = input(\"Enter first variable: \")\n",
    "b = input(\"Enter second variable: \")\n",
    "c = input(\"Enter third variable: \")\n",
    "d = input(\"Enter fourth variable: \")\n",
    "e = input(\"Enter fifth variable: \")\n",
    "print(f\"Variables: {a}, {b}, {c}, {d}, {e}\")\n",
    "print(f\"Types: {type(a)}, {type(b)}, {type(c)}, {type(d)}, {type(e)}\")\n",
    "\n"
   ]
  },
  {
   "cell_type": "code",
   "execution_count": 15,
   "id": "79dc64d3",
   "metadata": {},
   "outputs": [
    {
     "name": "stdout",
     "output_type": "stream",
     "text": [
      "nagpur maharashtra\n",
      "nagpur nagpur nagpur \n",
      "n\n",
      "agp\n",
      "NAGPUR\n"
     ]
    }
   ],
   "source": [
    "city = \"nagpur\"\n",
    "state = \"maharashtra\"\n",
    "#string operations\n",
    "print(city + \" \" + state)  # Concatenation\n",
    "print((city + \" \") * 3)  # Repetition\n",
    "print(city[0])  # Indexing\n",
    "print(city[1:4])  # Slicing\n",
    "print(city.upper())  # Uppercase\n"
   ]
  },
  {
   "cell_type": "code",
   "execution_count": null,
   "id": "df7bfa5a",
   "metadata": {},
   "outputs": [],
   "source": [
    "#4 cities in list\n",
    "cities = [\"Bangalore\", \"Mumbai\", \"Delhi\", \"Chennai\"]\n",
    "#list operations\n",
    "print(cities)  \n",
    "print(cities[0]) \n",
    "print(cities[1:3])  \n",
    "cities.append(\"Kolkata\")\n",
    "print(cities)  \n",
    "cities.remove(\"Delhi\")\n",
    "print(cities)  \n"
   ]
  },
  {
   "cell_type": "code",
   "execution_count": null,
   "id": "d6391d8e",
   "metadata": {},
   "outputs": [],
   "source": [
    "#tuple\n",
    "cities_tuple = (\"Bangalore\", \"Mumbai\", \"Delhi\", \"Chennai\")\n",
    "#tuple operations\n",
    "print(cities_tuple)\n",
    "print(cities_tuple[0])\n",
    "print(cities_tuple[1:3])\n"
   ]
  },
  {
   "cell_type": "code",
   "execution_count": 16,
   "id": "6a5ef085",
   "metadata": {},
   "outputs": [
    {
     "name": "stdout",
     "output_type": "stream",
     "text": [
      "{'Bangalore': 'Karnataka', 'Mumbai': 'Maharashtra', 'Delhi': 'Delhi', 'Chennai': 'Tamil Nadu'}\n",
      "Karnataka\n",
      "dict_keys(['Bangalore', 'Mumbai', 'Delhi', 'Chennai'])\n",
      "dict_values(['Karnataka', 'Maharashtra', 'Delhi', 'Tamil Nadu'])\n"
     ]
    }
   ],
   "source": [
    "#dictionary\n",
    "cities_dict = {\n",
    "    \"Bangalore\": \"Karnataka\",\n",
    "    \"Mumbai\": \"Maharashtra\",\n",
    "    \"Delhi\": \"Delhi\",\n",
    "    \"Chennai\": \"Tamil Nadu\"\n",
    "}\n",
    "#dictionary operations\n",
    "print(cities_dict)\n",
    "print(cities_dict[\"Bangalore\"])  # Accessing value by key\n",
    "print(cities_dict.keys())  # Getting all keys\n",
    "print(cities_dict.values())  # Getting all values\n"
   ]
  },
  {
   "cell_type": "code",
   "execution_count": 17,
   "id": "061c1de5",
   "metadata": {},
   "outputs": [
    {
     "name": "stdout",
     "output_type": "stream",
     "text": [
      "3.3333333333333335\n",
      "3\n"
     ]
    }
   ],
   "source": [
    "#division and floor division\n",
    "a = 10\n",
    "b= 3\n",
    "print(a/b)\n",
    "print(a//b)  # Floor division"
   ]
  },
  {
   "cell_type": "code",
   "execution_count": 18,
   "id": "c4382241",
   "metadata": {},
   "outputs": [
    {
     "name": "stdout",
     "output_type": "stream",
     "text": [
      "True\n",
      "True\n"
     ]
    }
   ],
   "source": [
    "#membership operators\n",
    "list1 = [1, 2, 3, 4, 5]\n",
    "print(3 in list1) \n",
    "print(6 not in list1)  \n"
   ]
  },
  {
   "cell_type": "code",
   "execution_count": null,
   "id": "6c5f2563",
   "metadata": {},
   "outputs": [],
   "source": [
    "#input in integer\n",
    "num = int(input(\"Enter an integer: \"))\n",
    "num1 = float(input(\"Enter a float: \"))\n",
    "\n",
    "print(num)\n",
    "print(num1)"
   ]
  }
 ],
 "metadata": {
  "kernelspec": {
   "display_name": "Python 3",
   "language": "python",
   "name": "python3"
  },
  "language_info": {
   "codemirror_mode": {
    "name": "ipython",
    "version": 3
   },
   "file_extension": ".py",
   "mimetype": "text/x-python",
   "name": "python",
   "nbconvert_exporter": "python",
   "pygments_lexer": "ipython3",
   "version": "3.11.9"
  }
 },
 "nbformat": 4,
 "nbformat_minor": 5
}
