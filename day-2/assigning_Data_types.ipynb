{
 "cells": [
  {
   "cell_type": "code",
   "execution_count": null,
   "id": "af016c28",
   "metadata": {},
   "outputs": [
    {
     "name": "stdout",
     "output_type": "stream",
     "text": [
      "nagpur\n",
      "42\n",
      "3.14\n"
     ]
    }
   ],
   "source": [
    "#assign a string varibale and print it\n",
    "city = \"nagpur\"\n",
    "print(city)\n",
    "\n",
    "#assign an integer variable and print it\n",
    "temperature = 42\n",
    "print(temperature)\n",
    "\n",
    "#assign a float variable and print it\n",
    "carbon_footprint = 3.14\n",
    "print(carbon_footprint)\n",
    "\n",
    "#use a boolean variable to store true and false based on a condition \n",
    "is_sustainable = 200\n"
   ]
  },
  {
   "cell_type": "code",
   "execution_count": null,
   "id": "c8e9e0c7",
   "metadata": {},
   "outputs": [
    {
     "name": "stdout",
     "output_type": "stream",
     "text": [
      "is the city sustainable?  True\n"
     ]
    }
   ],
   "source": [
    "#print is sustainable based on carbon footprint\n",
    "is_sustainable = carbon_footprint <400\n",
    "print(\"is the city sustainable? \",is_sustainable)"
   ]
  },
  {
   "cell_type": "code",
   "execution_count": 8,
   "id": "528059c4",
   "metadata": {},
   "outputs": [
    {
     "name": "stdout",
     "output_type": "stream",
     "text": [
      "Temperatures recorded in the city:  [30, 32, 35, 28, 31]\n",
      "City Information:  {'name': 'nagpur', 'temperature': 42, 'carbon_footprint': 3.14, 'is_sustainable': True}\n"
     ]
    }
   ],
   "source": [
    "#create a list variable for temperature recorded in city\n",
    "temperatures = [30, 32, 35, 28, 31]\n",
    "print(\"Temperatures recorded in the city: \", temperatures)\n",
    "\n",
    "\n",
    "#create a dictionry variable to store city information\n",
    "city_info = {\n",
    "    \"name\": city,\n",
    "    \"temperature\": temperature,\n",
    "    \"carbon_footprint\": carbon_footprint,\n",
    "    \"is_sustainable\": is_sustainable\n",
    "}\n",
    "print(\"City Information: \", city_info)"
   ]
  },
  {
   "cell_type": "code",
   "execution_count": 10,
   "id": "03c2dc4a",
   "metadata": {},
   "outputs": [
    {
     "name": "stdout",
     "output_type": "stream",
     "text": [
      "[{'city': 'City B', 'temperature': 30, 'carbon_footprint': 350}, {'city': 'City E', 'temperature': 28, 'carbon_footprint': 450}]\n"
     ]
    }
   ],
   "source": [
    "#sample climate data\n",
    "climate_data = [\n",
    "    {\"city\": \"City A\", \"temperature\": 25, \"carbon_footprint\": 500},\n",
    "    {\"city\": \"City B\", \"temperature\": 30, \"carbon_footprint\": 350},\n",
    "    {\"city\": \"City C\", \"temperature\": 22, \"carbon_footprint\": 600},\n",
    "    {\"city\": \"City D\", \"temperature\": 15, \"carbon_footprint\": 200},\n",
    "    {\"city\": \"City E\", \"temperature\": 28, \"carbon_footprint\": 450},\n",
    "]\n",
    "high_temp_threshold = 26\n",
    "#filter cities with high temperature\n",
    "high_temp_cities = [city for city in climate_data if city[\"temperature\"] > high_temp_threshold]\n",
    "print(high_temp_cities)\n"
   ]
  },
  {
   "cell_type": "code",
   "execution_count": 11,
   "id": "a4c3b77e",
   "metadata": {},
   "outputs": [
    {
     "name": "stdout",
     "output_type": "stream",
     "text": [
      "City B - 30\n",
      "City E - 28\n"
     ]
    }
   ],
   "source": [
    "for city in high_temp_cities:\n",
    "    print(f\"{city['city']} - {city['temperature']}\")"
   ]
  },
  {
   "cell_type": "code",
   "execution_count": 17,
   "id": "243a2b7f",
   "metadata": {},
   "outputs": [
    {
     "name": "stdout",
     "output_type": "stream",
     "text": [
      "total carbon is :  2100\n"
     ]
    }
   ],
   "source": [
    "total_carbon = 0;\n",
    "\n",
    "#use a for loop to go to each city in the dataset and add their carbon footprint\n",
    "for city in climate_data:\n",
    "    total_carbon = total_carbon +city[\"carbon_footprint\"]\n",
    "\n",
    "print(\"total carbon is : \",total_carbon)\n"
   ]
  },
  {
   "cell_type": "code",
   "execution_count": 18,
   "id": "1a19367e",
   "metadata": {},
   "outputs": [
    {
     "name": "stdout",
     "output_type": "stream",
     "text": [
      "avg carbon is  420.0\n"
     ]
    }
   ],
   "source": [
    "avg_carbon = total_carbon / len(climate_data)\n",
    "print(\"avg carbon is \",avg_carbon)"
   ]
  }
 ],
 "metadata": {
  "kernelspec": {
   "display_name": "Python 3",
   "language": "python",
   "name": "python3"
  },
  "language_info": {
   "codemirror_mode": {
    "name": "ipython",
    "version": 3
   },
   "file_extension": ".py",
   "mimetype": "text/x-python",
   "name": "python",
   "nbconvert_exporter": "python",
   "pygments_lexer": "ipython3",
   "version": "3.11.9"
  }
 },
 "nbformat": 4,
 "nbformat_minor": 5
}
