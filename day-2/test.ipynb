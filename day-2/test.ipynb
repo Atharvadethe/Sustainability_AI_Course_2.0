{
 "cells": [
  {
   "cell_type": "code",
   "execution_count": 1,
   "id": "a703787a",
   "metadata": {},
   "outputs": [
    {
     "name": "stdout",
     "output_type": "stream",
     "text": [
      "12 is an even number.\n"
     ]
    }
   ],
   "source": [
    "#conditional statements\n",
    "#take input and check if it is even or odd\n",
    "num = int(input(\"Enter a number: \"))\n",
    "if num % 2 == 0:\n",
    "    print(f\"{num} is an even number.\")\n",
    "else:\n",
    "    print(f\"{num} is an odd number.\")"
   ]
  },
  {
   "cell_type": "code",
   "execution_count": null,
   "id": "b7a0f6a0",
   "metadata": {},
   "outputs": [
    {
     "name": "stdout",
     "output_type": "stream",
     "text": [
      "Gross payment is: 276.0\n"
     ]
    }
   ],
   "source": [
    "#calculate a program to calculate gross payment\n",
    "\n",
    "hours = float(input(\"Hour worked: \"))\n",
    "rate = float(input(\"Rate per Hour: \"))\n",
    "gross_payment = hours *rate\n",
    "print(f\"Gross payment is: {gross_payment}\")"
   ]
  },
  {
   "cell_type": "code",
   "execution_count": 4,
   "id": "1864fade",
   "metadata": {},
   "outputs": [
    {
     "name": "stdout",
     "output_type": "stream",
     "text": [
      "Gross payment is: 276.0\n"
     ]
    }
   ],
   "source": [
    "#we need to pay 1.5 times the rate if employee has worked for more than 40 hours otherwise pay at normal rate\n",
    "extra_hours = hours - 40\n",
    "if extra_hours > 40:\n",
    "    gross_payment = (40 * rate) + (extra_hours * 1.5 *rate)\n",
    "else:\n",
    "    gross_payment = hours * rate\n",
    "print(f\"Gross payment is: {gross_payment}\")\n"
   ]
  },
  {
   "cell_type": "code",
   "execution_count": 5,
   "id": "6f3b424d",
   "metadata": {},
   "outputs": [
    {
     "name": "stdout",
     "output_type": "stream",
     "text": [
      "4 7 10 13 16 19 22 25 28 31 34 "
     ]
    }
   ],
   "source": [
    "for i in range (4,35, 3):\n",
    "    print(i, end=\" \")\n",
    "    "
   ]
  },
  {
   "cell_type": "code",
   "execution_count": 7,
   "id": "01bb7302",
   "metadata": {},
   "outputs": [
    {
     "name": "stdout",
     "output_type": "stream",
     "text": [
      "Total is: 4900\n",
      "700.0\n"
     ]
    }
   ],
   "source": [
    "[400, 500, 600, 700, 800, 900, 1000]\n",
    "total = 0\n",
    "count = 0\n",
    "for i in [400, 500, 600, 700, 800, 900, 1000]:\n",
    "    total += i\n",
    "    count += 1\n",
    "print(f\"Total is: {total}\")\n",
    "\n",
    "print(total /count)"
   ]
  }
 ],
 "metadata": {
  "kernelspec": {
   "display_name": "Python 3",
   "language": "python",
   "name": "python3"
  },
  "language_info": {
   "codemirror_mode": {
    "name": "ipython",
    "version": 3
   },
   "file_extension": ".py",
   "mimetype": "text/x-python",
   "name": "python",
   "nbconvert_exporter": "python",
   "pygments_lexer": "ipython3",
   "version": "3.11.9"
  }
 },
 "nbformat": 4,
 "nbformat_minor": 5
}
