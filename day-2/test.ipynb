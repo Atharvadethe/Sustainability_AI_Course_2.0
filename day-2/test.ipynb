{
 "cells": [
  {
   "cell_type": "code",
   "execution_count": 1,
   "id": "a703787a",
   "metadata": {},
   "outputs": [
    {
     "name": "stdout",
     "output_type": "stream",
     "text": [
      "12 is an even number.\n"
     ]
    }
   ],
   "source": [
    "#conditional statements\n",
    "#take input and check if it is even or odd\n",
    "num = int(input(\"Enter a number: \"))\n",
    "if num % 2 == 0:\n",
    "    print(f\"{num} is an even number.\")\n",
    "else:\n",
    "    print(f\"{num} is an odd number.\")"
   ]
  },
  {
   "cell_type": "code",
   "execution_count": null,
   "id": "b7a0f6a0",
   "metadata": {},
   "outputs": [
    {
     "name": "stdout",
     "output_type": "stream",
     "text": [
      "Gross payment is: 276.0\n"
     ]
    }
   ],
   "source": [
    "#calculate a program to calculate gross payment\n",
    "\n",
    "hours = float(input(\"Hour worked: \"))\n",
    "rate = float(input(\"Rate per Hour: \"))\n",
    "gross_payment = hours *rate\n",
    "print(f\"Gross payment is: {gross_payment}\")"
   ]
  },
  {
   "cell_type": "code",
   "execution_count": 4,
   "id": "1864fade",
   "metadata": {},
   "outputs": [
    {
     "name": "stdout",
     "output_type": "stream",
     "text": [
      "Gross payment is: 276.0\n"
     ]
    }
   ],
   "source": [
    "#we need to pay 1.5 times the rate if employee has worked for more than 40 hours otherwise pay at normal rate\n",
    "extra_hours = hours - 40\n",
    "if extra_hours > 40:\n",
    "    gross_payment = (40 * rate) + (extra_hours * 1.5 *rate)\n",
    "else:\n",
    "    gross_payment = hours * rate\n",
    "print(f\"Gross payment is: {gross_payment}\")\n"
   ]
  },
  {
   "cell_type": "code",
   "execution_count": 5,
   "id": "6f3b424d",
   "metadata": {},
   "outputs": [
    {
     "name": "stdout",
     "output_type": "stream",
     "text": [
      "4 7 10 13 16 19 22 25 28 31 34 "
     ]
    }
   ],
   "source": [
    "for i in range (4,35, 3):\n",
    "    print(i, end=\" \")\n",
    "    "
   ]
  },
  {
   "cell_type": "code",
   "execution_count": 7,
   "id": "01bb7302",
   "metadata": {},
   "outputs": [
    {
     "name": "stdout",
     "output_type": "stream",
     "text": [
      "Total is: 4900\n",
      "700.0\n"
     ]
    }
   ],
   "source": [
    "[400, 500, 600, 700, 800, 900, 1000]\n",
    "total = 0\n",
    "count = 0\n",
    "for i in [400, 500, 600, 700, 800, 900, 1000]:\n",
    "    total += i\n",
    "    count += 1\n",
    "print(f\"Total is: {total}\")\n",
    "\n",
    "print(total /count)"
   ]
  },
  {
   "cell_type": "code",
   "execution_count": 8,
   "id": "af92dca4",
   "metadata": {},
   "outputs": [
    {
     "name": "stdout",
     "output_type": "stream",
     "text": [
      "0 1 2 3 4 5 6 7 8 9 "
     ]
    }
   ],
   "source": [
    "count = 0\n",
    "while (count <10):\n",
    "    print(count, end=\" \")\n",
    "    count += 1\n",
    "    "
   ]
  },
  {
   "cell_type": "code",
   "execution_count": 9,
   "id": "2432167d",
   "metadata": {},
   "outputs": [
    {
     "name": "stdout",
     "output_type": "stream",
     "text": [
      "You entered: asdsad\n",
      "You entered: wqdqwd\n"
     ]
    }
   ],
   "source": [
    "user_input = \"\"\n",
    "while user_input.lower() != 'quit':\n",
    "    user_input = input(\"Enter something (type 'quit' to exit): \")\n",
    "    if user_input.lower() != 'quit':\n",
    "        print(f\"You entered: {user_input}\")"
   ]
  },
  {
   "cell_type": "code",
   "execution_count": null,
   "id": "3ec2c674",
   "metadata": {},
   "outputs": [
    {
     "name": "stdout",
     "output_type": "stream",
     "text": [
      "Hello atharva\n"
     ]
    }
   ],
   "source": [
    "#functions\n",
    "def greet(name):\n",
    "    print(f\"Hello {name}\")\n",
    "\n",
    "greet(\"Atharva\")"
   ]
  },
  {
   "cell_type": "code",
   "execution_count": 19,
   "id": "47a722bb",
   "metadata": {},
   "outputs": [
    {
     "name": "stdout",
     "output_type": "stream",
     "text": [
      "Gross payment is: 540\n"
     ]
    }
   ],
   "source": [
    "def pay_computation(hours, rate):\n",
    "    if hours > 40:\n",
    "        extra_hours = hours - 40\n",
    "        gross_payment = (40 * rate) + (extra_hours * 1.5 * rate)\n",
    "    else:\n",
    "        gross_payment = hours * rate\n",
    "    print(f\"Gross payment is: {gross_payment}\")\n",
    "\n",
    "pay_computation(12,45)"
   ]
  },
  {
   "cell_type": "code",
   "execution_count": null,
   "id": "bd671bf7",
   "metadata": {},
   "outputs": [],
   "source": [
    "def greet (*arr):\n",
    "    for name in arr:\n",
    "        print(f\"Hello {name}\")\n",
    "        "
   ]
  },
  {
   "cell_type": "code",
   "execution_count": 23,
   "id": "e7f1faf2",
   "metadata": {},
   "outputs": [
    {
     "name": "stdout",
     "output_type": "stream",
     "text": [
      "15\n"
     ]
    }
   ],
   "source": [
    "#addition of variable number of arguments\n",
    "def add(*args):\n",
    "    total = 0\n",
    "    for num in args:\n",
    "        total += num\n",
    "    return total\n",
    " \n",
    "print(add(1, 2, 3, 4, 5))  # Output: 15"
   ]
  },
  {
   "cell_type": "code",
   "execution_count": 24,
   "id": "75848f23",
   "metadata": {},
   "outputs": [
    {
     "name": "stdout",
     "output_type": "stream",
     "text": [
      "15\n"
     ]
    }
   ],
   "source": [
    "add = lambda x,y : x+y\n",
    "print(add(5, 10))  "
   ]
  },
  {
   "cell_type": "code",
   "execution_count": 25,
   "id": "174a9366",
   "metadata": {},
   "outputs": [
    {
     "name": "stdout",
     "output_type": "stream",
     "text": [
      "50\n"
     ]
    }
   ],
   "source": [
    "momentum = lambda mass, velocity: mass * velocity\n",
    "print(momentum(10, 5))  "
   ]
  },
  {
   "cell_type": "code",
   "execution_count": null,
   "id": "92e2f2b2",
   "metadata": {},
   "outputs": [],
   "source": []
  }
 ],
 "metadata": {
  "kernelspec": {
   "display_name": "Python 3",
   "language": "python",
   "name": "python3"
  },
  "language_info": {
   "codemirror_mode": {
    "name": "ipython",
    "version": 3
   },
   "file_extension": ".py",
   "mimetype": "text/x-python",
   "name": "python",
   "nbconvert_exporter": "python",
   "pygments_lexer": "ipython3",
   "version": "3.11.9"
  }
 },
 "nbformat": 4,
 "nbformat_minor": 5
}
