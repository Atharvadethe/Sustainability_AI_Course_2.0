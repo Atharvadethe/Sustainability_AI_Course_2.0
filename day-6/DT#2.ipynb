{
 "cells": [
  {
   "cell_type": "code",
   "execution_count": null,
   "id": "3410ff50",
   "metadata": {},
   "outputs": [
    {
     "name": "stdout",
     "output_type": "stream",
     "text": [
      "   carbon_emissions  energy_output  renewability_index  cost_efficiency  \\\n",
      "0        181.089042     128.286267            0.642032         0.732568   \n",
      "1        382.750007     672.769370            0.084140         2.891096   \n",
      "2        306.197880     382.920383            0.161629         2.932858   \n",
      "3        259.530469     557.713622            0.898554         3.368435   \n",
      "4        104.606524     916.809827            0.606429         3.767411   \n",
      "\n",
      "   sustainability  \n",
      "0               1  \n",
      "1               0  \n",
      "2               0  \n",
      "3               0  \n",
      "4               0  \n"
     ]
    }
   ],
   "source": [
    "#perform decision tree classifer on green_tech_data.csv\n",
    "import pandas as pd\n",
    "from sklearn.model_selection import train_test_split\n",
    "from sklearn.tree import DecisionTreeClassifier\n",
    "from sklearn.metrics import accuracy_score, classification_report, confusion_matrix\n",
    "# Load the dataset\n",
    "data = pd.read_csv('green_tech_data.csv')\n",
    "# Display the first few rows of the dataset\n",
    "print(data.head())\n",
    "\n"
   ]
  },
  {
   "cell_type": "code",
   "execution_count": 10,
   "id": "328b63d8",
   "metadata": {},
   "outputs": [
    {
     "name": "stdout",
     "output_type": "stream",
     "text": [
      "Accuracy: 0.90\n"
     ]
    }
   ],
   "source": [
    "#define features and target variable\n",
    "X = data[['carbon_emissions','energy_output','renewability_index','cost_efficiency']]  # Features\n",
    "y = data['sustainability']  # Target variable\n",
    "# Split the dataset into training and testing sets\n",
    "X_train, X_test, y_train, y_test = train_test_split(X, y, test_size=0.2, random_state=42)\n",
    "# Create a Decision Tree Classifier\n",
    "clf = DecisionTreeClassifier(random_state=42)\n",
    "# Train the classifier\n",
    "clf.fit(X_train, y_train)\n",
    "# Make predictions on the test set\n",
    "y_pred = clf.predict(X_test)\n",
    "# Evaluate the model\n",
    "accuracy = accuracy_score(y_test, y_pred)\n",
    "print(f'Accuracy: {accuracy:.2f}')\n"
   ]
  },
  {
   "cell_type": "code",
   "execution_count": 11,
   "id": "d242a186",
   "metadata": {},
   "outputs": [
    {
     "name": "stdout",
     "output_type": "stream",
     "text": [
      "Confusion Matrix:\n",
      "[[16  1]\n",
      " [ 1  2]]\n"
     ]
    }
   ],
   "source": [
    "#confusion matrix\n",
    "from sklearn.metrics import confusion_matrix\n",
    "cm = confusion_matrix(y_test, y_pred)\n",
    "print(\"Confusion Matrix:\")\n",
    "print(cm)\n"
   ]
  },
  {
   "cell_type": "code",
   "execution_count": 12,
   "id": "90b9de66",
   "metadata": {},
   "outputs": [
    {
     "name": "stdout",
     "output_type": "stream",
     "text": [
      "Classification Report:\n",
      "              precision    recall  f1-score   support\n",
      "\n",
      "           0       0.94      0.94      0.94        17\n",
      "           1       0.67      0.67      0.67         3\n",
      "\n",
      "    accuracy                           0.90        20\n",
      "   macro avg       0.80      0.80      0.80        20\n",
      "weighted avg       0.90      0.90      0.90        20\n",
      "\n",
      "Decision Tree Rules:\n",
      "|--- carbon_emissions <= 95.77\n",
      "|   |--- renewability_index <= 0.63\n",
      "|   |   |--- cost_efficiency <= 0.97\n",
      "|   |   |   |--- class: 1\n",
      "|   |   |--- cost_efficiency >  0.97\n",
      "|   |   |   |--- class: 0\n",
      "|   |--- renewability_index >  0.63\n",
      "|   |   |--- class: 1\n",
      "|--- carbon_emissions >  95.77\n",
      "|   |--- cost_efficiency <= 0.63\n",
      "|   |   |--- class: 1\n",
      "|   |--- cost_efficiency >  0.63\n",
      "|   |   |--- carbon_emissions <= 192.84\n",
      "|   |   |   |--- cost_efficiency <= 3.04\n",
      "|   |   |   |   |--- renewability_index <= 0.44\n",
      "|   |   |   |   |   |--- class: 0\n",
      "|   |   |   |   |--- renewability_index >  0.44\n",
      "|   |   |   |   |   |--- class: 1\n",
      "|   |   |   |--- cost_efficiency >  3.04\n",
      "|   |   |   |   |--- class: 0\n",
      "|   |   |--- carbon_emissions >  192.84\n",
      "|   |   |   |--- class: 0\n",
      "\n"
     ]
    }
   ],
   "source": [
    "#classification report\n",
    "report = classification_report(y_test, y_pred)\n",
    "print(\"Classification Report:\")\n",
    "print(report)\n",
    "# Visualize the decision tree\n",
    "from sklearn.tree import export_text\n",
    "tree_rules = export_text(clf, feature_names=list(X.columns))\n",
    "print(\"Decision Tree Rules:\")\n",
    "print(tree_rules)"
   ]
  }
 ],
 "metadata": {
  "kernelspec": {
   "display_name": "Python 3",
   "language": "python",
   "name": "python3"
  },
  "language_info": {
   "codemirror_mode": {
    "name": "ipython",
    "version": 3
   },
   "file_extension": ".py",
   "mimetype": "text/x-python",
   "name": "python",
   "nbconvert_exporter": "python",
   "pygments_lexer": "ipython3",
   "version": "3.11.9"
  }
 },
 "nbformat": 4,
 "nbformat_minor": 5
}
