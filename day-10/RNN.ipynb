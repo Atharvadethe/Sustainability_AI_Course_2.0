{
 "cells": [
  {
   "cell_type": "markdown",
   "id": "2d3eea5a",
   "metadata": {},
   "source": [
    "Recurrent Neural Network\n",
    "Rnn has memory is the biggest difference \n",
    "Rnn is used in NLP\n",
    "it keeps past in consideration , sequential data such as timeseries etc.\n"
   ]
  },
  {
   "cell_type": "code",
   "execution_count": 2,
   "id": "d1426ef2",
   "metadata": {},
   "outputs": [],
   "source": [
    "import numpy as np\n",
    "import tensorflow as tf\n",
    "from tensorflow.keras.models import Sequential\n",
    "from tensorflow.keras.layers import SimpleRNN, Dense\n",
    "import matplotlib.pyplot as plt\n"
   ]
  },
  {
   "cell_type": "code",
   "execution_count": 4,
   "id": "861cb7ca",
   "metadata": {},
   "outputs": [
    {
     "data": {
      "text/plain": [
       "array([170, 191, 107, 137, 156, 150, 165, 112, 171, 119, 131, 174, 155,\n",
       "       183, 159, 191, 173, 196, 149, 153, 173, 108, 152, 130, 179, 114,\n",
       "       192, 158, 174, 122, 103, 191, 199, 171, 155, 183, 128, 113, 137,\n",
       "       182, 150, 179, 167, 130, 160, 144, 146, 187, 143, 135, 198, 131,\n",
       "       182, 105, 180, 165, 107, 192, 141, 199, 195, 188, 193, 125, 183,\n",
       "       158, 198, 170, 157, 157, 183, 185, 136, 163, 174, 188, 100, 101,\n",
       "       133, 152, 172, 157, 134, 114, 178, 171, 156, 177, 186, 184, 182,\n",
       "       191, 112, 190, 173, 127, 100, 121, 194, 132, 151, 150, 120, 141,\n",
       "       178, 155, 147, 143, 191, 176, 129, 145, 107, 110, 161, 119, 168,\n",
       "       125, 161, 198, 116, 188, 161, 151, 188, 141, 158, 121, 131, 195,\n",
       "       143, 168, 116, 103, 115, 179, 104, 106, 194, 166, 185, 151, 190,\n",
       "       183, 102, 109, 106, 139, 125, 156, 117, 113, 107, 150, 196, 148,\n",
       "       153, 100, 138, 160, 148, 167, 197, 161, 145, 161, 110, 177, 157,\n",
       "       152, 140, 101, 152, 158, 188, 122, 148, 124, 158, 193, 174, 189,\n",
       "       196, 143, 164, 171, 106, 143, 136, 177, 196, 102, 164, 175, 179,\n",
       "       194, 110, 115, 197, 120])"
      ]
     },
     "execution_count": 4,
     "metadata": {},
     "output_type": "execute_result"
    }
   ],
   "source": [
    "np.random.seed(40)\n",
    "data = np.random.randint(100,200, size =200)\n",
    "data"
   ]
  },
  {
   "cell_type": "code",
   "execution_count": 5,
   "id": "4a88f221",
   "metadata": {},
   "outputs": [],
   "source": [
    "#prepare input sequences (x = past 7 days)\n",
    "#labels y = next day\n",
    "def prepare_data(data, sequence_length = 7):\n",
    "    x, y = [], []\n",
    "    for i in range(len(data) - sequence_length):\n",
    "        x.append(data[i:i + sequence_length])\n",
    "        y.append(data[i + sequence_length])\n",
    "    return np.array(x), np.array(y)"
   ]
  },
  {
   "cell_type": "code",
   "execution_count": 8,
   "id": "54e0a99f",
   "metadata": {},
   "outputs": [],
   "source": [
    "X, y = prepare_data(data)"
   ]
  },
  {
   "cell_type": "code",
   "execution_count": 9,
   "id": "daedc291",
   "metadata": {},
   "outputs": [
    {
     "data": {
      "text/plain": [
       "array([[170, 191, 107, ..., 156, 150, 165],\n",
       "       [191, 107, 137, ..., 150, 165, 112],\n",
       "       [107, 137, 156, ..., 165, 112, 171],\n",
       "       ...,\n",
       "       [196, 102, 164, ..., 179, 194, 110],\n",
       "       [102, 164, 175, ..., 194, 110, 115],\n",
       "       [164, 175, 179, ..., 110, 115, 197]])"
      ]
     },
     "execution_count": 9,
     "metadata": {},
     "output_type": "execute_result"
    }
   ],
   "source": [
    "X"
   ]
  },
  {
   "cell_type": "code",
   "execution_count": 10,
   "id": "135c5016",
   "metadata": {},
   "outputs": [
    {
     "data": {
      "text/plain": [
       "array([112, 171, 119, 131, 174, 155, 183, 159, 191, 173, 196, 149, 153,\n",
       "       173, 108, 152, 130, 179, 114, 192, 158, 174, 122, 103, 191, 199,\n",
       "       171, 155, 183, 128, 113, 137, 182, 150, 179, 167, 130, 160, 144,\n",
       "       146, 187, 143, 135, 198, 131, 182, 105, 180, 165, 107, 192, 141,\n",
       "       199, 195, 188, 193, 125, 183, 158, 198, 170, 157, 157, 183, 185,\n",
       "       136, 163, 174, 188, 100, 101, 133, 152, 172, 157, 134, 114, 178,\n",
       "       171, 156, 177, 186, 184, 182, 191, 112, 190, 173, 127, 100, 121,\n",
       "       194, 132, 151, 150, 120, 141, 178, 155, 147, 143, 191, 176, 129,\n",
       "       145, 107, 110, 161, 119, 168, 125, 161, 198, 116, 188, 161, 151,\n",
       "       188, 141, 158, 121, 131, 195, 143, 168, 116, 103, 115, 179, 104,\n",
       "       106, 194, 166, 185, 151, 190, 183, 102, 109, 106, 139, 125, 156,\n",
       "       117, 113, 107, 150, 196, 148, 153, 100, 138, 160, 148, 167, 197,\n",
       "       161, 145, 161, 110, 177, 157, 152, 140, 101, 152, 158, 188, 122,\n",
       "       148, 124, 158, 193, 174, 189, 196, 143, 164, 171, 106, 143, 136,\n",
       "       177, 196, 102, 164, 175, 179, 194, 110, 115, 197, 120])"
      ]
     },
     "execution_count": 10,
     "metadata": {},
     "output_type": "execute_result"
    }
   ],
   "source": [
    "y"
   ]
  },
  {
   "cell_type": "code",
   "execution_count": 11,
   "id": "01b1dea0",
   "metadata": {},
   "outputs": [
    {
     "data": {
      "text/plain": [
       "(193, 7, 1)"
      ]
     },
     "execution_count": 11,
     "metadata": {},
     "output_type": "execute_result"
    }
   ],
   "source": [
    "X = X.reshape((X.shape[0], X.shape[1], 1))  # Reshape for RNN input\n",
    "X.shape\n"
   ]
  },
  {
   "cell_type": "code",
   "execution_count": 12,
   "id": "41330897",
   "metadata": {},
   "outputs": [],
   "source": [
    "from sklearn.model_selection import train_test_split\n",
    "X_train, X_test, y_train, y_test = train_test_split(X, y, test_size=0.2, random_state=42)\n"
   ]
  },
  {
   "cell_type": "code",
   "execution_count": 13,
   "id": "b40347d9",
   "metadata": {},
   "outputs": [
    {
     "name": "stdout",
     "output_type": "stream",
     "text": [
      "Epoch 1/30\n",
      "5/5 [==============================] - 11s 47ms/step - loss: 22427.3711\n",
      "Epoch 2/30\n",
      "5/5 [==============================] - 0s 9ms/step - loss: 11624.5293\n",
      "Epoch 3/30\n",
      "5/5 [==============================] - 0s 48ms/step - loss: 3536.1685\n",
      "Epoch 4/30\n",
      "5/5 [==============================] - 0s 34ms/step - loss: 1187.8176\n",
      "Epoch 5/30\n",
      "5/5 [==============================] - 0s 7ms/step - loss: 2088.6077\n",
      "Epoch 6/30\n",
      "5/5 [==============================] - 0s 19ms/step - loss: 1159.4561\n",
      "Epoch 7/30\n",
      "5/5 [==============================] - 0s 19ms/step - loss: 1069.6205\n",
      "Epoch 8/30\n",
      "5/5 [==============================] - 0s 19ms/step - loss: 1156.4768\n",
      "Epoch 9/30\n",
      "5/5 [==============================] - 0s 13ms/step - loss: 1009.4692\n",
      "Epoch 10/30\n",
      "5/5 [==============================] - 0s 14ms/step - loss: 940.2363\n",
      "Epoch 11/30\n",
      "5/5 [==============================] - 0s 20ms/step - loss: 987.8776\n",
      "Epoch 12/30\n",
      "5/5 [==============================] - 0s 39ms/step - loss: 941.5296\n",
      "Epoch 13/30\n",
      "5/5 [==============================] - 0s 17ms/step - loss: 953.3580\n",
      "Epoch 14/30\n",
      "5/5 [==============================] - 0s 13ms/step - loss: 952.2162\n",
      "Epoch 15/30\n",
      "5/5 [==============================] - 0s 11ms/step - loss: 929.2201\n",
      "Epoch 16/30\n",
      "5/5 [==============================] - 0s 6ms/step - loss: 933.5400\n",
      "Epoch 17/30\n",
      "5/5 [==============================] - 0s 30ms/step - loss: 920.1111\n",
      "Epoch 18/30\n",
      "5/5 [==============================] - 0s 6ms/step - loss: 909.7455\n",
      "Epoch 19/30\n",
      "5/5 [==============================] - 0s 37ms/step - loss: 917.1351\n",
      "Epoch 20/30\n",
      "5/5 [==============================] - 0s 34ms/step - loss: 904.9989\n",
      "Epoch 21/30\n",
      "5/5 [==============================] - 0s 15ms/step - loss: 921.6224\n",
      "Epoch 22/30\n",
      "5/5 [==============================] - 0s 34ms/step - loss: 899.3864\n",
      "Epoch 23/30\n",
      "5/5 [==============================] - 0s 51ms/step - loss: 904.7794\n",
      "Epoch 24/30\n",
      "5/5 [==============================] - 0s 18ms/step - loss: 895.7024\n",
      "Epoch 25/30\n",
      "5/5 [==============================] - 0s 11ms/step - loss: 891.1117\n",
      "Epoch 26/30\n",
      "5/5 [==============================] - 0s 8ms/step - loss: 888.7295\n",
      "Epoch 27/30\n",
      "5/5 [==============================] - 0s 35ms/step - loss: 886.2120\n",
      "Epoch 28/30\n",
      "5/5 [==============================] - 0s 14ms/step - loss: 887.3066\n",
      "Epoch 29/30\n",
      "5/5 [==============================] - 0s 26ms/step - loss: 879.9620\n",
      "Epoch 30/30\n",
      "5/5 [==============================] - 0s 25ms/step - loss: 887.4436\n"
     ]
    }
   ],
   "source": [
    "#build the RNN model\n",
    "rnnmodel = Sequential()\n",
    "rnnmodel.add(SimpleRNN(50, activation='relu', input_shape=(X_train.shape[1], 1)))\n",
    "rnnmodel.add(Dense(1))  # Output layer for regression\n",
    "\n",
    "rnnmodel.compile(optimizer='adam', loss='mse')\n",
    "#train the model\n",
    "history = rnnmodel.fit(X_train, y_train, epochs=30, verbose=1)"
   ]
  },
  {
   "cell_type": "code",
   "execution_count": 14,
   "id": "0f054da2",
   "metadata": {},
   "outputs": [
    {
     "name": "stdout",
     "output_type": "stream",
     "text": [
      "2/2 [==============================] - 2s 18ms/step\n"
     ]
    }
   ],
   "source": [
    "y_pred  = rnnmodel.predict(X_test)"
   ]
  }
 ],
 "metadata": {
  "kernelspec": {
   "display_name": "Python 3",
   "language": "python",
   "name": "python3"
  },
  "language_info": {
   "codemirror_mode": {
    "name": "ipython",
    "version": 3
   },
   "file_extension": ".py",
   "mimetype": "text/x-python",
   "name": "python",
   "nbconvert_exporter": "python",
   "pygments_lexer": "ipython3",
   "version": "3.11.9"
  }
 },
 "nbformat": 4,
 "nbformat_minor": 5
}
