{
 "cells": [
  {
   "cell_type": "markdown",
   "id": "2d3eea5a",
   "metadata": {},
   "source": [
    "Recurrent Neural Network\n",
    "Rnn has memory is the biggest difference \n",
    "Rnn is used in NLP\n",
    "it keeps past in consideration , sequential data such as timeseries etc.\n"
   ]
  },
  {
   "cell_type": "code",
   "execution_count": 2,
   "id": "d1426ef2",
   "metadata": {},
   "outputs": [],
   "source": [
    "import numpy as np\n",
    "import tensorflow as tf\n",
    "from tensorflow.keras.models import Sequential\n",
    "from tensorflow.keras.layers import SimpleRNN, Dense\n",
    "import matplotlib.pyplot as plt\n"
   ]
  },
  {
   "cell_type": "code",
   "execution_count": 3,
   "id": "861cb7ca",
   "metadata": {},
   "outputs": [
    {
     "data": {
      "text/plain": [
       "array([170, 191, 107, 137, 156, 150, 165, 112, 171, 119, 131, 174, 155,\n",
       "       183, 159, 191, 173, 196, 149, 153, 173, 108, 152, 130, 179, 114,\n",
       "       192, 158, 174, 122, 103, 191, 199, 171, 155, 183, 128, 113, 137,\n",
       "       182, 150, 179, 167, 130, 160, 144, 146, 187, 143, 135, 198, 131,\n",
       "       182, 105, 180, 165, 107, 192, 141, 199, 195, 188, 193, 125, 183,\n",
       "       158, 198, 170, 157, 157, 183, 185, 136, 163, 174, 188, 100, 101,\n",
       "       133, 152, 172, 157, 134, 114, 178, 171, 156, 177, 186, 184, 182,\n",
       "       191, 112, 190, 173, 127, 100, 121, 194, 132, 151, 150, 120, 141,\n",
       "       178, 155, 147, 143, 191, 176, 129, 145, 107, 110, 161, 119, 168,\n",
       "       125, 161, 198, 116, 188, 161, 151, 188, 141, 158, 121, 131, 195,\n",
       "       143, 168, 116, 103, 115, 179, 104, 106, 194, 166, 185, 151, 190,\n",
       "       183, 102, 109, 106, 139, 125, 156, 117, 113, 107, 150, 196, 148,\n",
       "       153, 100, 138, 160, 148, 167, 197, 161, 145, 161, 110, 177, 157,\n",
       "       152, 140, 101, 152, 158, 188, 122, 148, 124, 158, 193, 174, 189,\n",
       "       196, 143, 164, 171, 106, 143, 136, 177, 196, 102, 164, 175, 179,\n",
       "       194, 110, 115, 197, 120], dtype=int32)"
      ]
     },
     "execution_count": 3,
     "metadata": {},
     "output_type": "execute_result"
    }
   ],
   "source": [
    "np.random.seed(40)\n",
    "data = np.random.randint(100,200, size =200)\n",
    "data"
   ]
  },
  {
   "cell_type": "code",
   "execution_count": 4,
   "id": "4a88f221",
   "metadata": {},
   "outputs": [],
   "source": [
    "#prepare input sequences (x = past 7 days)\n",
    "#labels y = next day\n",
    "def prepare_data(data, sequence_length = 7):\n",
    "    x, y = [], []\n",
    "    for i in range(len(data) - sequence_length):\n",
    "        x.append(data[i:i + sequence_length])\n",
    "        y.append(data[i + sequence_length])\n",
    "    return np.array(x), np.array(y)"
   ]
  },
  {
   "cell_type": "code",
   "execution_count": 5,
   "id": "54e0a99f",
   "metadata": {},
   "outputs": [],
   "source": [
    "X, y = prepare_data(data)"
   ]
  },
  {
   "cell_type": "code",
   "execution_count": 6,
   "id": "daedc291",
   "metadata": {},
   "outputs": [
    {
     "data": {
      "text/plain": [
       "array([[170, 191, 107, ..., 156, 150, 165],\n",
       "       [191, 107, 137, ..., 150, 165, 112],\n",
       "       [107, 137, 156, ..., 165, 112, 171],\n",
       "       ...,\n",
       "       [196, 102, 164, ..., 179, 194, 110],\n",
       "       [102, 164, 175, ..., 194, 110, 115],\n",
       "       [164, 175, 179, ..., 110, 115, 197]], dtype=int32)"
      ]
     },
     "execution_count": 6,
     "metadata": {},
     "output_type": "execute_result"
    }
   ],
   "source": [
    "X"
   ]
  },
  {
   "cell_type": "code",
   "execution_count": 7,
   "id": "135c5016",
   "metadata": {},
   "outputs": [
    {
     "data": {
      "text/plain": [
       "array([112, 171, 119, 131, 174, 155, 183, 159, 191, 173, 196, 149, 153,\n",
       "       173, 108, 152, 130, 179, 114, 192, 158, 174, 122, 103, 191, 199,\n",
       "       171, 155, 183, 128, 113, 137, 182, 150, 179, 167, 130, 160, 144,\n",
       "       146, 187, 143, 135, 198, 131, 182, 105, 180, 165, 107, 192, 141,\n",
       "       199, 195, 188, 193, 125, 183, 158, 198, 170, 157, 157, 183, 185,\n",
       "       136, 163, 174, 188, 100, 101, 133, 152, 172, 157, 134, 114, 178,\n",
       "       171, 156, 177, 186, 184, 182, 191, 112, 190, 173, 127, 100, 121,\n",
       "       194, 132, 151, 150, 120, 141, 178, 155, 147, 143, 191, 176, 129,\n",
       "       145, 107, 110, 161, 119, 168, 125, 161, 198, 116, 188, 161, 151,\n",
       "       188, 141, 158, 121, 131, 195, 143, 168, 116, 103, 115, 179, 104,\n",
       "       106, 194, 166, 185, 151, 190, 183, 102, 109, 106, 139, 125, 156,\n",
       "       117, 113, 107, 150, 196, 148, 153, 100, 138, 160, 148, 167, 197,\n",
       "       161, 145, 161, 110, 177, 157, 152, 140, 101, 152, 158, 188, 122,\n",
       "       148, 124, 158, 193, 174, 189, 196, 143, 164, 171, 106, 143, 136,\n",
       "       177, 196, 102, 164, 175, 179, 194, 110, 115, 197, 120], dtype=int32)"
      ]
     },
     "execution_count": 7,
     "metadata": {},
     "output_type": "execute_result"
    }
   ],
   "source": [
    "y"
   ]
  },
  {
   "cell_type": "code",
   "execution_count": 8,
   "id": "01b1dea0",
   "metadata": {},
   "outputs": [
    {
     "data": {
      "text/plain": [
       "(193, 7, 1)"
      ]
     },
     "execution_count": 8,
     "metadata": {},
     "output_type": "execute_result"
    }
   ],
   "source": [
    "X = X.reshape((X.shape[0], X.shape[1], 1))  # Reshape for RNN input\n",
    "X.shape\n"
   ]
  },
  {
   "cell_type": "code",
   "execution_count": 9,
   "id": "41330897",
   "metadata": {},
   "outputs": [],
   "source": [
    "from sklearn.model_selection import train_test_split\n",
    "X_train, X_test, y_train, y_test = train_test_split(X, y, test_size=0.2, random_state=42)\n"
   ]
  },
  {
   "cell_type": "code",
   "execution_count": 10,
   "id": "b40347d9",
   "metadata": {},
   "outputs": [
    {
     "name": "stderr",
     "output_type": "stream",
     "text": [
      "C:\\Users\\athar\\AppData\\Local\\Packages\\PythonSoftwareFoundation.Python.3.11_qbz5n2kfra8p0\\LocalCache\\local-packages\\Python311\\site-packages\\keras\\src\\layers\\rnn\\rnn.py:199: UserWarning: Do not pass an `input_shape`/`input_dim` argument to a layer. When using Sequential models, prefer using an `Input(shape)` object as the first layer in the model instead.\n",
      "  super().__init__(**kwargs)\n"
     ]
    },
    {
     "name": "stdout",
     "output_type": "stream",
     "text": [
      "Epoch 1/30\n",
      "\u001b[1m5/5\u001b[0m \u001b[32m━━━━━━━━━━━━━━━━━━━━\u001b[0m\u001b[37m\u001b[0m \u001b[1m1s\u001b[0m 11ms/step - loss: 37633.1562\n",
      "Epoch 2/30\n",
      "\u001b[1m5/5\u001b[0m \u001b[32m━━━━━━━━━━━━━━━━━━━━\u001b[0m\u001b[37m\u001b[0m \u001b[1m0s\u001b[0m 8ms/step - loss: 30720.5430 \n",
      "Epoch 3/30\n",
      "\u001b[1m5/5\u001b[0m \u001b[32m━━━━━━━━━━━━━━━━━━━━\u001b[0m\u001b[37m\u001b[0m \u001b[1m0s\u001b[0m 10ms/step - loss: 25027.7070\n",
      "Epoch 4/30\n",
      "\u001b[1m5/5\u001b[0m \u001b[32m━━━━━━━━━━━━━━━━━━━━\u001b[0m\u001b[37m\u001b[0m \u001b[1m0s\u001b[0m 9ms/step - loss: 19550.4453 \n",
      "Epoch 5/30\n",
      "\u001b[1m5/5\u001b[0m \u001b[32m━━━━━━━━━━━━━━━━━━━━\u001b[0m\u001b[37m\u001b[0m \u001b[1m0s\u001b[0m 11ms/step - loss: 14158.1895\n",
      "Epoch 6/30\n",
      "\u001b[1m5/5\u001b[0m \u001b[32m━━━━━━━━━━━━━━━━━━━━\u001b[0m\u001b[37m\u001b[0m \u001b[1m0s\u001b[0m 9ms/step - loss: 9326.2168  \n",
      "Epoch 7/30\n",
      "\u001b[1m5/5\u001b[0m \u001b[32m━━━━━━━━━━━━━━━━━━━━\u001b[0m\u001b[37m\u001b[0m \u001b[1m0s\u001b[0m 9ms/step - loss: 4285.8237 \n",
      "Epoch 8/30\n",
      "\u001b[1m5/5\u001b[0m \u001b[32m━━━━━━━━━━━━━━━━━━━━\u001b[0m\u001b[37m\u001b[0m \u001b[1m0s\u001b[0m 11ms/step - loss: 1095.6858\n",
      "Epoch 9/30\n",
      "\u001b[1m5/5\u001b[0m \u001b[32m━━━━━━━━━━━━━━━━━━━━\u001b[0m\u001b[37m\u001b[0m \u001b[1m0s\u001b[0m 11ms/step - loss: 2127.0493\n",
      "Epoch 10/30\n",
      "\u001b[1m5/5\u001b[0m \u001b[32m━━━━━━━━━━━━━━━━━━━━\u001b[0m\u001b[37m\u001b[0m \u001b[1m0s\u001b[0m 9ms/step - loss: 1567.2974 \n",
      "Epoch 11/30\n",
      "\u001b[1m5/5\u001b[0m \u001b[32m━━━━━━━━━━━━━━━━━━━━\u001b[0m\u001b[37m\u001b[0m \u001b[1m0s\u001b[0m 7ms/step - loss: 1047.9401  \n",
      "Epoch 12/30\n",
      "\u001b[1m5/5\u001b[0m \u001b[32m━━━━━━━━━━━━━━━━━━━━\u001b[0m\u001b[37m\u001b[0m \u001b[1m0s\u001b[0m 10ms/step - loss: 1129.2645\n",
      "Epoch 13/30\n",
      "\u001b[1m5/5\u001b[0m \u001b[32m━━━━━━━━━━━━━━━━━━━━\u001b[0m\u001b[37m\u001b[0m \u001b[1m0s\u001b[0m 11ms/step - loss: 1121.5717\n",
      "Epoch 14/30\n",
      "\u001b[1m5/5\u001b[0m \u001b[32m━━━━━━━━━━━━━━━━━━━━\u001b[0m\u001b[37m\u001b[0m \u001b[1m0s\u001b[0m 8ms/step - loss: 988.3936  \n",
      "Epoch 15/30\n",
      "\u001b[1m5/5\u001b[0m \u001b[32m━━━━━━━━━━━━━━━━━━━━\u001b[0m\u001b[37m\u001b[0m \u001b[1m0s\u001b[0m 8ms/step - loss: 996.0992 \n",
      "Epoch 16/30\n",
      "\u001b[1m5/5\u001b[0m \u001b[32m━━━━━━━━━━━━━━━━━━━━\u001b[0m\u001b[37m\u001b[0m \u001b[1m0s\u001b[0m 8ms/step - loss: 925.5503 \n",
      "Epoch 17/30\n",
      "\u001b[1m5/5\u001b[0m \u001b[32m━━━━━━━━━━━━━━━━━━━━\u001b[0m\u001b[37m\u001b[0m \u001b[1m0s\u001b[0m 7ms/step - loss: 871.7426 \n",
      "Epoch 18/30\n",
      "\u001b[1m5/5\u001b[0m \u001b[32m━━━━━━━━━━━━━━━━━━━━\u001b[0m\u001b[37m\u001b[0m \u001b[1m0s\u001b[0m 7ms/step - loss: 1003.8231 \n",
      "Epoch 19/30\n",
      "\u001b[1m5/5\u001b[0m \u001b[32m━━━━━━━━━━━━━━━━━━━━\u001b[0m\u001b[37m\u001b[0m \u001b[1m0s\u001b[0m 8ms/step - loss: 982.7040  \n",
      "Epoch 20/30\n",
      "\u001b[1m5/5\u001b[0m \u001b[32m━━━━━━━━━━━━━━━━━━━━\u001b[0m\u001b[37m\u001b[0m \u001b[1m0s\u001b[0m 8ms/step - loss: 925.0706 \n",
      "Epoch 21/30\n",
      "\u001b[1m5/5\u001b[0m \u001b[32m━━━━━━━━━━━━━━━━━━━━\u001b[0m\u001b[37m\u001b[0m \u001b[1m0s\u001b[0m 12ms/step - loss: 913.6032\n",
      "Epoch 22/30\n",
      "\u001b[1m5/5\u001b[0m \u001b[32m━━━━━━━━━━━━━━━━━━━━\u001b[0m\u001b[37m\u001b[0m \u001b[1m0s\u001b[0m 9ms/step - loss: 865.0987 \n",
      "Epoch 23/30\n",
      "\u001b[1m5/5\u001b[0m \u001b[32m━━━━━━━━━━━━━━━━━━━━\u001b[0m\u001b[37m\u001b[0m \u001b[1m0s\u001b[0m 7ms/step - loss: 969.1790 \n",
      "Epoch 24/30\n",
      "\u001b[1m5/5\u001b[0m \u001b[32m━━━━━━━━━━━━━━━━━━━━\u001b[0m\u001b[37m\u001b[0m \u001b[1m0s\u001b[0m 8ms/step - loss: 910.0967 \n",
      "Epoch 25/30\n",
      "\u001b[1m5/5\u001b[0m \u001b[32m━━━━━━━━━━━━━━━━━━━━\u001b[0m\u001b[37m\u001b[0m \u001b[1m0s\u001b[0m 7ms/step - loss: 891.8829 \n",
      "Epoch 26/30\n",
      "\u001b[1m5/5\u001b[0m \u001b[32m━━━━━━━━━━━━━━━━━━━━\u001b[0m\u001b[37m\u001b[0m \u001b[1m0s\u001b[0m 10ms/step - loss: 1009.7476\n",
      "Epoch 27/30\n",
      "\u001b[1m5/5\u001b[0m \u001b[32m━━━━━━━━━━━━━━━━━━━━\u001b[0m\u001b[37m\u001b[0m \u001b[1m0s\u001b[0m 8ms/step - loss: 992.3157   \n",
      "Epoch 28/30\n",
      "\u001b[1m5/5\u001b[0m \u001b[32m━━━━━━━━━━━━━━━━━━━━\u001b[0m\u001b[37m\u001b[0m \u001b[1m0s\u001b[0m 8ms/step - loss: 896.3942 \n",
      "Epoch 29/30\n",
      "\u001b[1m5/5\u001b[0m \u001b[32m━━━━━━━━━━━━━━━━━━━━\u001b[0m\u001b[37m\u001b[0m \u001b[1m0s\u001b[0m 8ms/step - loss: 961.6509 \n",
      "Epoch 30/30\n",
      "\u001b[1m5/5\u001b[0m \u001b[32m━━━━━━━━━━━━━━━━━━━━\u001b[0m\u001b[37m\u001b[0m \u001b[1m0s\u001b[0m 9ms/step - loss: 886.5699 \n"
     ]
    }
   ],
   "source": [
    "#build the RNN model\n",
    "rnnmodel = Sequential()\n",
    "rnnmodel.add(SimpleRNN(50, activation='relu', input_shape=(X_train.shape[1], 1)))\n",
    "rnnmodel.add(Dense(1))  # Output layer for regression\n",
    "\n",
    "rnnmodel.compile(optimizer='adam', loss='mse')\n",
    "#train the model\n",
    "history = rnnmodel.fit(X_train, y_train, epochs=30, verbose=1)"
   ]
  },
  {
   "cell_type": "code",
   "execution_count": 11,
   "id": "0f054da2",
   "metadata": {},
   "outputs": [
    {
     "name": "stdout",
     "output_type": "stream",
     "text": [
      "\u001b[1m2/2\u001b[0m \u001b[32m━━━━━━━━━━━━━━━━━━━━\u001b[0m\u001b[37m\u001b[0m \u001b[1m0s\u001b[0m 151ms/step\n"
     ]
    }
   ],
   "source": [
    "y_pred  = rnnmodel.predict(X_test)"
   ]
  },
  {
   "cell_type": "code",
   "execution_count": 12,
   "id": "1c6918e1",
   "metadata": {},
   "outputs": [
    {
     "name": "stdout",
     "output_type": "stream",
     "text": [
      "\u001b[1m1/1\u001b[0m \u001b[32m━━━━━━━━━━━━━━━━━━━━\u001b[0m\u001b[37m\u001b[0m \u001b[1m0s\u001b[0m 164ms/step\n",
      "Predicted value: 154.00192\n"
     ]
    }
   ],
   "source": [
    "#take new_data as an input from user of 7 days\n",
    "new_data = np.array([101, 112, 113, 154, 167, 200, 210])  # Example input\n",
    "new_data = new_data.reshape((1, 7, 1))  # Reshape for RNN input\n",
    "\n",
    "new_prediction = rnnmodel.predict(new_data.reshape(1, 7, 1))\n",
    "print(\"Predicted value:\", new_prediction[0][0])"
   ]
  },
  {
   "cell_type": "code",
   "execution_count": 13,
   "id": "27950bba",
   "metadata": {},
   "outputs": [
    {
     "data": {
      "text/plain": [
       "array([[106],\n",
       "       [194],\n",
       "       [166],\n",
       "       [185],\n",
       "       [151],\n",
       "       [190],\n",
       "       [183]], dtype=int32)"
      ]
     },
     "execution_count": 13,
     "metadata": {},
     "output_type": "execute_result"
    }
   ],
   "source": [
    "X_test[1]"
   ]
  },
  {
   "cell_type": "code",
   "execution_count": 14,
   "id": "874c95c9",
   "metadata": {},
   "outputs": [
    {
     "data": {
      "text/plain": [
       "np.int32(102)"
      ]
     },
     "execution_count": 14,
     "metadata": {},
     "output_type": "execute_result"
    }
   ],
   "source": [
    "y_test[1]"
   ]
  },
  {
   "cell_type": "code",
   "execution_count": 15,
   "id": "247a5b0d",
   "metadata": {},
   "outputs": [
    {
     "name": "stdout",
     "output_type": "stream",
     "text": [
      "\u001b[1m1/1\u001b[0m \u001b[32m━━━━━━━━━━━━━━━━━━━━\u001b[0m\u001b[37m\u001b[0m \u001b[1m0s\u001b[0m 64ms/step\n"
     ]
    },
    {
     "data": {
      "text/plain": [
       "array([[168.78548]], dtype=float32)"
      ]
     },
     "execution_count": 15,
     "metadata": {},
     "output_type": "execute_result"
    }
   ],
   "source": [
    "rnnmodel.predict(X_test[1].reshape(1, 7, 1))"
   ]
  },
  {
   "cell_type": "code",
   "execution_count": null,
   "id": "dc761ee3",
   "metadata": {},
   "outputs": [],
   "source": []
  }
 ],
 "metadata": {
  "kernelspec": {
   "display_name": "Python 3",
   "language": "python",
   "name": "python3"
  },
  "language_info": {
   "codemirror_mode": {
    "name": "ipython",
    "version": 3
   },
   "file_extension": ".py",
   "mimetype": "text/x-python",
   "name": "python",
   "nbconvert_exporter": "python",
   "pygments_lexer": "ipython3",
   "version": "3.11.9"
  }
 },
 "nbformat": 4,
 "nbformat_minor": 5
}
