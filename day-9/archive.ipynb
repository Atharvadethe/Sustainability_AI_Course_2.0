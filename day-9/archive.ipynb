{
 "cells": [
  {
   "cell_type": "code",
   "execution_count": 2,
   "id": "682805f4",
   "metadata": {},
   "outputs": [],
   "source": [
    "import pandas as pd\n",
    "import numpy as np\n",
    "import os\n",
    "import matplotlib.pyplot as plt\n",
    "import itertools\n",
    "from PIL import Image\n",
    "from tensorflow.keras.models import load_model, Sequential\n",
    "from tensorflow.keras.layers import Dense, Flatten, Conv2D, MaxPooling2D, Dropout\n",
    "from tensorflow.keras.preprocessing.image import ImageDataGenerator\n",
    "from sklearn.model_selection import train_test_split\n",
    "from sklearn.metrics import classification_report, confusion_matrix\n",
    "\n",
    "\n"
   ]
  },
  {
   "cell_type": "code",
   "execution_count": 14,
   "id": "4da72af5",
   "metadata": {},
   "outputs": [
    {
     "name": "stdout",
     "output_type": "stream",
     "text": [
      "                                             image_path   label\n",
      "0     D:\\PYTHON\\Edunet2.0\\day-9\\archive\\data\\cloudy\\...  Cloudy\n",
      "1     D:\\PYTHON\\Edunet2.0\\day-9\\archive\\data\\cloudy\\...  Cloudy\n",
      "2     D:\\PYTHON\\Edunet2.0\\day-9\\archive\\data\\cloudy\\...  Cloudy\n",
      "3     D:\\PYTHON\\Edunet2.0\\day-9\\archive\\data\\cloudy\\...  Cloudy\n",
      "4     D:\\PYTHON\\Edunet2.0\\day-9\\archive\\data\\cloudy\\...  Cloudy\n",
      "...                                                 ...     ...\n",
      "5626  D:\\PYTHON\\Edunet2.0\\day-9\\archive\\data\\desert\\...  Desert\n",
      "5627  D:\\PYTHON\\Edunet2.0\\day-9\\archive\\data\\desert\\...  Desert\n",
      "5628  D:\\PYTHON\\Edunet2.0\\day-9\\archive\\data\\desert\\...  Desert\n",
      "5629  D:\\PYTHON\\Edunet2.0\\day-9\\archive\\data\\desert\\...  Desert\n",
      "5630  D:\\PYTHON\\Edunet2.0\\day-9\\archive\\data\\desert\\...  Desert\n",
      "\n",
      "[5631 rows x 2 columns]\n"
     ]
    }
   ],
   "source": [
    "#empty dataframe \n",
    "# data = pd.DataFrame(columns=['image_path', 'label'])\n",
    "data_list = []\n",
    "\n",
    "labels = {\n",
    "    r\"D:\\PYTHON\\Edunet2.0\\day-9\\archive\\data\\cloudy\": \"Cloudy\",\n",
    "    r\"D:\\PYTHON\\Edunet2.0\\day-9\\archive\\data\\green_area\": \"Green\",\n",
    "    r\"D:\\PYTHON\\Edunet2.0\\day-9\\archive\\data\\water\": \"Water\",\n",
    "    r\"D:\\PYTHON\\Edunet2.0\\day-9\\archive\\data\\desert\": \"Desert\"\n",
    "}\n",
    "\n",
    "#validate the paths\n",
    "for folder in labels:\n",
    "    if not os.path.exists(folder):\n",
    "        print(f\"Directory {folder} does not exist.\")\n",
    "        continue\n",
    "    for filename in os.listdir(folder):\n",
    "        if filename.endswith('.jpg') or filename.endswith('.png'):\n",
    "            image_path = os.path.join(folder, filename)\n",
    "            label = labels[folder]\n",
    "            data_list.append({'image_path': image_path, 'label': label})\n",
    "\n",
    "data = pd.DataFrame(data_list)\n",
    "print(data)"
   ]
  }
 ],
 "metadata": {
  "kernelspec": {
   "display_name": "Python 3",
   "language": "python",
   "name": "python3"
  },
  "language_info": {
   "codemirror_mode": {
    "name": "ipython",
    "version": 3
   },
   "file_extension": ".py",
   "mimetype": "text/x-python",
   "name": "python",
   "nbconvert_exporter": "python",
   "pygments_lexer": "ipython3",
   "version": "3.11.9"
  }
 },
 "nbformat": 4,
 "nbformat_minor": 5
}
