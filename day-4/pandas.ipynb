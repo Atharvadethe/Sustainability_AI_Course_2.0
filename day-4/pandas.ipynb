{
 "cells": [
  {
   "cell_type": "code",
   "execution_count": 1,
   "id": "6191b87f",
   "metadata": {},
   "outputs": [
    {
     "name": "stdout",
     "output_type": "stream",
     "text": [
      "0    1\n",
      "1    2\n",
      "2    3\n",
      "3    4\n",
      "4    5\n",
      "dtype: int64\n",
      "a    1\n",
      "b    2\n",
      "c    3\n",
      "d    4\n",
      "e    5\n",
      "dtype: int64\n",
      "a    1\n",
      "b    2\n",
      "c    3\n",
      "d    4\n",
      "e    5\n",
      "dtype: int64\n",
      "1\n",
      "1\n"
     ]
    },
    {
     "name": "stderr",
     "output_type": "stream",
     "text": [
      "C:\\Users\\athar\\AppData\\Local\\Temp\\ipykernel_3008\\2378282909.py:18: FutureWarning: Series.__getitem__ treating keys as positions is deprecated. In a future version, integer keys will always be treated as labels (consistent with DataFrame behavior). To access a value by position, use `ser.iloc[pos]`\n",
      "  print(s[0])    # Access by position\n"
     ]
    }
   ],
   "source": [
    "#pandas liberary\n",
    "import pandas as pd\n",
    "\n",
    "#create pandas series form list\n",
    "s = pd.Series([1, 2, 3, 4, 5])\n",
    "print(s)\n",
    "\n",
    "#creating a pandas series witha a specified index\n",
    "s = pd.Series([1, 2, 3, 4, 5], index=['a', 'b', 'c', 'd', 'e'])\n",
    "print(s)\n",
    "\n",
    "#creating a pandas series from a dictionary\n",
    "s = pd.Series({'a': 1, 'b': 2, 'c': 3, 'd': 4, 'e': 5})\n",
    "print(s)\n",
    "\n",
    "#accessing elements in a pandas series\n",
    "print(s['a'])  # Access by label\n",
    "print(s[0])    # Access by position\n"
   ]
  },
  {
   "cell_type": "code",
   "execution_count": 2,
   "id": "ae02ea1e",
   "metadata": {},
   "outputs": [
    {
     "name": "stdout",
     "output_type": "stream",
     "text": [
      "a    1\n",
      "b    2\n",
      "c    3\n",
      "dtype: int64\n",
      "d    4\n",
      "e    5\n",
      "dtype: int64\n",
      "(5,)\n",
      "count    5.000000\n",
      "mean     3.000000\n",
      "std      1.581139\n",
      "min      1.000000\n",
      "25%      2.000000\n",
      "50%      3.000000\n",
      "75%      4.000000\n",
      "max      5.000000\n",
      "dtype: float64\n",
      "[1 2 3 4 5]\n"
     ]
    }
   ],
   "source": [
    "first_n_rows = s.head(3)  # Get first 3 rows\n",
    "print(first_n_rows)\n",
    "\n",
    "#return last n rows\n",
    "last_n_rows = s.tail(2)  # Get last 2 rows\n",
    "print(last_n_rows)\n",
    "\n",
    "#return dimentipns rows and coulmns\n",
    "print(s.shape)  \n",
    "\n",
    "#generate descriptive statics\n",
    "print(s.describe())  \n",
    "\n",
    "#retuern unique values\n",
    "print(s.unique())\n",
    "\n",
    "\n"
   ]
  }
 ],
 "metadata": {
  "kernelspec": {
   "display_name": "Python 3",
   "language": "python",
   "name": "python3"
  },
  "language_info": {
   "codemirror_mode": {
    "name": "ipython",
    "version": 3
   },
   "file_extension": ".py",
   "mimetype": "text/x-python",
   "name": "python",
   "nbconvert_exporter": "python",
   "pygments_lexer": "ipython3",
   "version": "3.11.9"
  }
 },
 "nbformat": 4,
 "nbformat_minor": 5
}
