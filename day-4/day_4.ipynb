{
 "cells": [
  {
   "cell_type": "code",
   "execution_count": 11,
   "id": "ec0f9ae4",
   "metadata": {},
   "outputs": [
    {
     "name": "stdout",
     "output_type": "stream",
     "text": [
      "Elements from index 1 to 4: [20 30 40 50]\n",
      "Every second element: [10 30 50 70]\n",
      "Last three elements: [50 60 70]\n",
      "First two rows:\n",
      " [[1 2 3 4]\n",
      " [5 6 7 8]]\n",
      "Last two columns:\n",
      " [[ 3  4]\n",
      " [ 7  8]\n",
      " [11 12]]\n",
      "Submatrix (rows 1-2, cols 2-3):\n",
      " [[2 3]\n",
      " [6 7]]\n"
     ]
    }
   ],
   "source": [
    "import numpy as np\n",
    "\n",
    "\n",
    "arr = np.array([10, 20, 30, 40, 50, 60, 70])\n",
    "\n",
    "print(\"Elements from index 1 to 4:\", arr[1:5])        # [20 30 40 50]\n",
    "print(\"Every second element:\", arr[::2])              # [10 30 50 70]\n",
    "print(\"Last three elements:\", arr[-3:])               # [50 60 70]\n",
    "\n",
    "arr2d = np.array([\n",
    "    [1, 2, 3, 4],\n",
    "    [5, 6, 7, 8],\n",
    "    [9, 10, 11, 12]\n",
    "])\n",
    "\n",
    "print(\"First two rows:\\n\", arr2d[:2, :])\n",
    "print(\"Last two columns:\\n\", arr2d[:, -2:])\n",
    "print(\"Submatrix (rows 1-2, cols 2-3):\\n\", arr2d[0:2, 1:3])"
   ]
  },
  {
   "cell_type": "code",
   "execution_count": 12,
   "id": "bd03917b",
   "metadata": {},
   "outputs": [],
   "source": [
    "import numpy as np\n"
   ]
  },
  {
   "cell_type": "code",
   "execution_count": 13,
   "id": "190fa461",
   "metadata": {},
   "outputs": [],
   "source": [
    "# 1D array with at least 15 elements\n",
    "array_1d = np.arange(1, 16)"
   ]
  },
  {
   "cell_type": "code",
   "execution_count": 14,
   "id": "2a52246c",
   "metadata": {},
   "outputs": [],
   "source": [
    "# 2D array with at least 4 rows and 5 columns\n",
    "array_2d = np.arange(1, 21).reshape(4, 5)"
   ]
  },
  {
   "cell_type": "code",
   "execution_count": 15,
   "id": "2f6c4397",
   "metadata": {},
   "outputs": [],
   "source": [
    "# 3D array with 2 matrices, each with 3 rows and 4 columns\n",
    "array_3d = np.arange(1, 25).reshape(2, 3, 4)"
   ]
  },
  {
   "cell_type": "code",
   "execution_count": 16,
   "id": "bae41d20",
   "metadata": {},
   "outputs": [
    {
     "name": "stdout",
     "output_type": "stream",
     "text": [
      "1D Array Slices:\n",
      "First 5 elements: [1 2 3 4 5]\n",
      "Middle 5 elements: [ 6  7  8  9 10]\n",
      "Every 2nd element: [ 1  3  5  7  9 11 13 15]\n",
      "Every 3rd element starting from index 1: [ 2  5  8 11 14]\n",
      "Reversed array: [15 14 13 12 11 10  9  8  7  6  5  4  3  2  1]\n"
     ]
    }
   ],
   "source": [
    "slice_1d_1 = array_1d[0:5]          # First 5 elements\n",
    "slice_1d_2 = array_1d[5:10]         # Middle 5 elements\n",
    "slice_1d_3 = array_1d[::2]          # Every 2nd element\n",
    "slice_1d_4 = array_1d[1::3]         # Every 3rd element starting from index 1\n",
    "slice_1d_5 = array_1d[::-1]         # Reversed array (negative slicing)\n",
    "\n",
    "print(\"1D Array Slices:\")\n",
    "print(\"First 5 elements:\", slice_1d_1)\n",
    "print(\"Middle 5 elements:\", slice_1d_2)\n",
    "print(\"Every 2nd element:\", slice_1d_3)\n",
    "print(\"Every 3rd element starting from index 1:\", slice_1d_4)\n",
    "print(\"Reversed array:\", slice_1d_5)\n",
    "\n"
   ]
  },
  {
   "cell_type": "code",
   "execution_count": 17,
   "id": "aa462ca0",
   "metadata": {},
   "outputs": [
    {
     "name": "stdout",
     "output_type": "stream",
     "text": [
      "\n",
      "2D Array Slices:\n",
      "Second row: [ 6  7  8  9 10]\n",
      "Third column: [ 3  8 13 18]\n",
      "Rows 1-2 and Columns 2-4:\n",
      " [[ 8  9 10]\n",
      " [13 14 15]]\n",
      "Reversed rows:\n",
      " [[16 17 18 19 20]\n",
      " [11 12 13 14 15]\n",
      " [ 6  7  8  9 10]\n",
      " [ 1  2  3  4  5]]\n",
      "Reversed columns:\n",
      " [[ 5  4  3  2  1]\n",
      " [10  9  8  7  6]\n",
      " [15 14 13 12 11]\n",
      " [20 19 18 17 16]]\n"
     ]
    }
   ],
   "source": [
    "slice_2d_1 = array_2d[1]            # Second row\n",
    "slice_2d_2 = array_2d[:, 2]         # Third column\n",
    "slice_2d_3 = array_2d[1:3, 2:5]     # Rows 1-2 and Columns 2-4\n",
    "slice_2d_4 = array_2d[::-1]         # Reversed rows\n",
    "slice_2d_5 = array_2d[:, ::-1]      # Reversed columns\n",
    "print(\"\\n2D Array Slices:\")\n",
    "print(\"Second row:\", slice_2d_1)\n",
    "print(\"Third column:\", slice_2d_2)\n",
    "print(\"Rows 1-2 and Columns 2-4:\\n\", slice_2d_3)\n",
    "print(\"Reversed rows:\\n\", slice_2d_4)\n",
    "print(\"Reversed columns:\\n\", slice_2d_5)"
   ]
  },
  {
   "cell_type": "code",
   "execution_count": 18,
   "id": "d1c7db0f",
   "metadata": {},
   "outputs": [
    {
     "name": "stdout",
     "output_type": "stream",
     "text": [
      "\n",
      "3D Array Slices:\n",
      "First matrix:\n",
      " [[ 1  2  3  4]\n",
      " [ 5  6  7  8]\n",
      " [ 9 10 11 12]]\n",
      "Second matrix, second row: [17 18 19 20]\n",
      "Specific element (matrix 1, row 1, col 2): 19\n",
      "Reversed matrices:\n",
      " [[[13 14 15 16]\n",
      "  [17 18 19 20]\n",
      "  [21 22 23 24]]\n",
      "\n",
      " [[ 1  2  3  4]\n",
      "  [ 5  6  7  8]\n",
      "  [ 9 10 11 12]]]\n",
      "Reversed rows in each matrix:\n",
      " [[[ 9 10 11 12]\n",
      "  [ 5  6  7  8]\n",
      "  [ 1  2  3  4]]\n",
      "\n",
      " [[21 22 23 24]\n",
      "  [17 18 19 20]\n",
      "  [13 14 15 16]]]\n",
      "Reversed columns in each row of each matrix:\n",
      " [[[ 4  3  2  1]\n",
      "  [ 8  7  6  5]\n",
      "  [12 11 10  9]]\n",
      "\n",
      " [[16 15 14 13]\n",
      "  [20 19 18 17]\n",
      "  [24 23 22 21]]]\n"
     ]
    }
   ],
   "source": [
    "\n",
    "slice_3d_1 = array_3d[0]            # First matrix\n",
    "slice_3d_2 = array_3d[1, 1]         # Second matrix, second row\n",
    "slice_3d_3 = array_3d[1, 1, 2]      # Specific element: matrix 1, row 1, col 2\n",
    "slice_3d_4 = array_3d[::-1]         # Reverse matrices\n",
    "slice_3d_5 = array_3d[:, ::-1]      # Reverse rows in each matrix\n",
    "slice_3d_6 = array_3d[:, :, ::-1]   # Reverse columns in each row of each matrix\n",
    "print(\"\\n3D Array Slices:\")\n",
    "print(\"First matrix:\\n\", slice_3d_1)\n",
    "print(\"Second matrix, second row:\", slice_3d_2)\n",
    "print(\"Specific element (matrix 1, row 1, col 2):\", slice_3d_3)\n",
    "print(\"Reversed matrices:\\n\", slice_3d_4)\n",
    "print(\"Reversed rows in each matrix:\\n\", slice_3d_5)\n",
    "print(\"Reversed columns in each row of each matrix:\\n\", slice_3d_6)\n"
   ]
  }
 ],
 "metadata": {
  "kernelspec": {
   "display_name": "Python 3",
   "language": "python",
   "name": "python3"
  },
  "language_info": {
   "codemirror_mode": {
    "name": "ipython",
    "version": 3
   },
   "file_extension": ".py",
   "mimetype": "text/x-python",
   "name": "python",
   "nbconvert_exporter": "python",
   "pygments_lexer": "ipython3",
   "version": "3.11.9"
  }
 },
 "nbformat": 4,
 "nbformat_minor": 5
}
