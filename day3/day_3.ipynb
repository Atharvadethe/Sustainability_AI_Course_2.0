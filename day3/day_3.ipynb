{
 "cells": [
  {
   "cell_type": "markdown",
   "id": "8c83feda",
   "metadata": {},
   "source": [
    "OOPS concept in python \n"
   ]
  },
  {
   "cell_type": "code",
   "execution_count": 3,
   "id": "26518808",
   "metadata": {},
   "outputs": [
    {
     "name": "stdout",
     "output_type": "stream",
     "text": [
      "Emissions: 32.0 kg CO2\n",
      "Consider using public transport or cycling to reduce emissions.\n"
     ]
    }
   ],
   "source": [
    "class Carbon_Tracker:\n",
    "    def __init__(self, transport_mode, distance):\n",
    "        self.transport_mode = transport_mode\n",
    "        self.distance = distance\n",
    "    \n",
    "    def calculate_emissions(self):\n",
    "        emissions_factors = {\n",
    "            'car': 0.32,\n",
    "            'bus': 0.05,\n",
    "            'train': 0.04,\n",
    "            'bicycle': 0.0,\n",
    "            'walking': 0.0\n",
    "        }\n",
    "        return self.distance * emissions_factors.get(self.transport_mode, 0.0)\n",
    "    \n",
    "    def alternative_transport(self):\n",
    "        if self.transport_mode == 'car':\n",
    "            return 'Consider using public transport or cycling to reduce emissions.'\n",
    "        elif self.transport_mode == 'bus':\n",
    "            return 'Consider walking or cycling for shorter distances.'\n",
    "        elif self.transport_mode == 'train':\n",
    "            return 'Consider using a bus or carpooling for shorter trips.'\n",
    "        elif self.transport_mode == 'bicycle':\n",
    "            return 'Great choice! Keep using a bicycle for short distances.'\n",
    "        elif self.transport_mode == 'walking':\n",
    "            return 'Excellent! Walking is the best option for short distances.'\n",
    "\n",
    "tracker = Carbon_Tracker('car', 100)\n",
    "tracker1 = Carbon_Tracker('bus', 50)\n",
    "print(f\"Emissions: {tracker.calculate_emissions()} kg CO2\")\n",
    "print(tracker.alternative_transport())\n"
   ]
  },
  {
   "cell_type": "code",
   "execution_count": 5,
   "id": "4c69d1d9",
   "metadata": {},
   "outputs": [],
   "source": [
    "#real-time carbon emissions tracking\n",
    "\n"
   ]
  },
  {
   "cell_type": "code",
   "execution_count": 6,
   "id": "cba7a2c1",
   "metadata": {},
   "outputs": [
    {
     "name": "stdout",
     "output_type": "stream",
     "text": [
      "Building Name: Building A\n",
      "Emission Factor: 0.5 kg CO2/kWh\n",
      "Energy Consumption: 1000 kWh\n",
      "Carbon Footprint: 500.0 kg CO2\n"
     ]
    }
   ],
   "source": [
    "#add one more methord to suggest alternative on the basis of carbon emissions\n",
    "class EnergySystems:\n",
    "    def __init__(self,building_name,emission_fac,energy_consumption):\n",
    "        self.building_name = building_name\n",
    "        self.emission_fac = emission_fac\n",
    "        self.energy_consumption = energy_consumption\n",
    "\n",
    "    def calculate_carbon_footprint(self):\n",
    "        return self.emission_fac * self.energy_consumption\n",
    "\n",
    "\n",
    "A = EnergySystems(\"Building A\", 0.5, 1000)\n",
    "print(f\"Building Name: {A.building_name}\")\n",
    "print(f\"Emission Factor: {A.emission_fac} kg CO2/kWh\")\n",
    "print(f\"Energy Consumption: {A.energy_consumption} kWh\")\n",
    "print(f\"Carbon Footprint: {A.calculate_carbon_footprint()} kg CO2\")\n",
    "\n",
    "\n",
    "\n",
    "        "
   ]
  }
 ],
 "metadata": {
  "kernelspec": {
   "display_name": "Python 3",
   "language": "python",
   "name": "python3"
  },
  "language_info": {
   "codemirror_mode": {
    "name": "ipython",
    "version": 3
   },
   "file_extension": ".py",
   "mimetype": "text/x-python",
   "name": "python",
   "nbconvert_exporter": "python",
   "pygments_lexer": "ipython3",
   "version": "3.11.9"
  }
 },
 "nbformat": 4,
 "nbformat_minor": 5
}
