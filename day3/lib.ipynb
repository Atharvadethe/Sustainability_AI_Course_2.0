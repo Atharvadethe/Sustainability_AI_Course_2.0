{
 "cells": [
  {
   "cell_type": "code",
   "execution_count": 4,
   "id": "0cf72925",
   "metadata": {},
   "outputs": [
    {
     "name": "stdout",
     "output_type": "stream",
     "text": [
      "2\n",
      "[1 2 3]\n",
      "[[1 2 3]\n",
      " [4 5 6]]\n",
      "[[[ 1  2  3]\n",
      "  [ 4  5  6]]\n",
      "\n",
      " [[ 7  8  9]\n",
      "  [10 11 12]]]\n",
      "Number of dimensions: 3\n"
     ]
    }
   ],
   "source": [
    "import numpy as np\n",
    "array_0d = np.array(2)\n",
    "print(array_0d)\n",
    "\n",
    "array_1d = np.array([1, 2, 3])\n",
    "print(array_1d)\n",
    "\n",
    "array_2d = np.array([[1, 2, 3], [4, 5, 6]])\n",
    "print(array_2d)\n",
    "\n",
    "array_1d.ndim\n",
    "\n",
    "array_3d = np.array([\n",
    "    [[1, 2, 3], [4, 5, 6]],\n",
    "    [[7, 8, 9], [10, 11, 12]]\n",
    "])\n",
    "print(array_3d)\n",
    "print(\"Number of dimensions:\", array_3d.ndim)\n"
   ]
  }
 ],
 "metadata": {
  "kernelspec": {
   "display_name": "Python 3",
   "language": "python",
   "name": "python3"
  },
  "language_info": {
   "codemirror_mode": {
    "name": "ipython",
    "version": 3
   },
   "file_extension": ".py",
   "mimetype": "text/x-python",
   "name": "python",
   "nbconvert_exporter": "python",
   "pygments_lexer": "ipython3",
   "version": "3.11.9"
  }
 },
 "nbformat": 4,
 "nbformat_minor": 5
}
