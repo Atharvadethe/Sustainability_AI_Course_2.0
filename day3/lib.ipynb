{
 "cells": [
  {
   "cell_type": "code",
   "execution_count": 4,
   "id": "0cf72925",
   "metadata": {},
   "outputs": [
    {
     "name": "stdout",
     "output_type": "stream",
     "text": [
      "2\n",
      "[1 2 3]\n",
      "[[1 2 3]\n",
      " [4 5 6]]\n",
      "[[[ 1  2  3]\n",
      "  [ 4  5  6]]\n",
      "\n",
      " [[ 7  8  9]\n",
      "  [10 11 12]]]\n",
      "Number of dimensions: 3\n"
     ]
    }
   ],
   "source": [
    "import numpy as np\n",
    "array_0d = np.array(2)\n",
    "print(array_0d)\n",
    "\n",
    "array_1d = np.array([1, 2, 3])\n",
    "print(array_1d)\n",
    "\n",
    "array_2d = np.array([[1, 2, 3], [4, 5, 6]])\n",
    "print(array_2d)\n",
    "\n",
    "array_1d.ndim\n",
    "\n",
    "array_3d = np.array([\n",
    "    [[1, 2, 3], [4, 5, 6]],\n",
    "    [[7, 8, 9], [10, 11, 12]]\n",
    "])\n",
    "print(array_3d)\n",
    "print(\"Number of dimensions:\", array_3d.ndim)\n"
   ]
  },
  {
   "cell_type": "code",
   "execution_count": 6,
   "id": "00028f71",
   "metadata": {},
   "outputs": [
    {
     "name": "stdout",
     "output_type": "stream",
     "text": [
      "Temperatures array:\n"
     ]
    }
   ],
   "source": [
    "temperatures = [[75.2,77.1,74.5,79.3,82.6,81.2,77.8], [78,88,76,75,79,70,72]]\n",
    "\n",
    "temperatures_array = np.array(temperatures)\n",
    "print(\"Temperatures array:\")\n"
   ]
  },
  {
   "cell_type": "code",
   "execution_count": 9,
   "id": "c712ebb4",
   "metadata": {},
   "outputs": [
    {
     "name": "stdout",
     "output_type": "stream",
     "text": [
      "Reshaped temperatures array:\n",
      " [[75.2 77.1 74.5 79.3 82.6 81.2 77.8]\n",
      " [78.  88.  76.  75.  79.  70.  72. ]]\n",
      "Transposed temperatures array:\n",
      " [[75.2 78. ]\n",
      " [77.1 88. ]\n",
      " [74.5 76. ]\n",
      " [79.3 75. ]\n",
      " [82.6 79. ]\n",
      " [81.2 70. ]\n",
      " [77.8 72. ]]\n",
      "Flattened temperatures array: [75.2 77.1 74.5 79.3 82.6 81.2 77.8 78.  88.  76.  75.  79.  70.  72. ]\n"
     ]
    }
   ],
   "source": [
    "# Reshape the array\n",
    "reshaped_temperatures = temperatures_array.reshape(2, 7)\n",
    "print(\"Reshaped temperatures array:\\n\", reshaped_temperatures)\n",
    "\n",
    "# Transpose the array\n",
    "transposed_temperatures = temperatures_array.transpose()\n",
    "print(\"Transposed temperatures array:\\n\", transposed_temperatures)\n",
    "\n",
    "# Flatten the array\n",
    "flattened_temperatures = temperatures_array.flatten()\n",
    "print(\"Flattened temperatures array:\", flattened_temperatures)\n"
   ]
  },
  {
   "cell_type": "code",
   "execution_count": null,
   "id": "5108660c",
   "metadata": {},
   "outputs": [
    {
     "name": "stdout",
     "output_type": "stream",
     "text": [
      "Addition: [11 22 33 44]\n",
      "Subtraction: [ -9 -18 -27 -36]\n",
      "Multiplication: [ 10  40  90 160]\n",
      "Division: [0.1 0.1 0.1 0.1]\n",
      "Power (a squared): [ 1  4  9 16]\n"
     ]
    }
   ],
   "source": [
    "a = np.array([1, 2, 3, 4])\n",
    "b = np.array([10, 20, 30, 40])\n",
    "\n",
    "# Addition\n",
    "add_result = np.add(a, b)\n",
    "print(\"Addition:\", add_result)\n",
    "\n",
    "# Subtraction\n",
    "sub_result = np.subtract(a, b)\n",
    "print(\"Subtraction:\", sub_result)\n",
    "\n",
    "# Multiplication\n",
    "mul_result = np.multiply(a, b)\n",
    "print(\"Multiplication:\", mul_result)\n",
    "\n",
    "# Division\n",
    "div_result = np.divide(a, b)\n",
    "print(\"Division:\", div_result)\n",
    "\n",
    "# Power\n",
    "pow_result = np.power(a, 2)\n",
    "print(\"Power (a squared):\", pow_result)\n"
   ]
  },
  {
   "cell_type": "code",
   "execution_count": 12,
   "id": "f7d409c1",
   "metadata": {},
   "outputs": [
    {
     "data": {
      "text/plain": [
       "array([[ 0,  1,  2,  3,  4],\n",
       "       [ 5,  6,  7,  8,  9],\n",
       "       [10, 11, 12, 13, 14]])"
      ]
     },
     "execution_count": 12,
     "metadata": {},
     "output_type": "execute_result"
    }
   ],
   "source": [
    "np.arange(15).reshape(3,5)  \n",
    "\n",
    "\n",
    "\n"
   ]
  },
  {
   "cell_type": "code",
   "execution_count": 13,
   "id": "cc96d1c5",
   "metadata": {},
   "outputs": [
    {
     "data": {
      "text/plain": [
       "array([[1., 1., 1., 1.],\n",
       "       [1., 1., 1., 1.]])"
      ]
     },
     "execution_count": 13,
     "metadata": {},
     "output_type": "execute_result"
    }
   ],
   "source": [
    "np.ones((2,4))\n"
   ]
  },
  {
   "cell_type": "code",
   "execution_count": 14,
   "id": "c87fbffa",
   "metadata": {},
   "outputs": [
    {
     "data": {
      "text/plain": [
       "array([[0., 0., 0., 0., 0.],\n",
       "       [0., 0., 0., 0., 0.],\n",
       "       [0., 0., 0., 0., 0.]])"
      ]
     },
     "execution_count": 14,
     "metadata": {},
     "output_type": "execute_result"
    }
   ],
   "source": [
    "np.zeros((3,5))\n"
   ]
  },
  {
   "cell_type": "code",
   "execution_count": 15,
   "id": "afdb65ca",
   "metadata": {},
   "outputs": [
    {
     "data": {
      "text/plain": [
       "array([0. , 0.3, 0.6, 0.9, 1.2, 1.5, 1.8, 2.1, 2.4, 2.7, 3. , 3.3, 3.6,\n",
       "       3.9, 4.2, 4.5, 4.8])"
      ]
     },
     "execution_count": 15,
     "metadata": {},
     "output_type": "execute_result"
    }
   ],
   "source": [
    "np.arange(0,5,0.3)"
   ]
  },
  {
   "cell_type": "code",
   "execution_count": 17,
   "id": "547cd39d",
   "metadata": {},
   "outputs": [
    {
     "data": {
      "text/plain": [
       "array([0.  , 0.25, 0.5 , 0.75, 1.  ])"
      ]
     },
     "execution_count": 17,
     "metadata": {},
     "output_type": "execute_result"
    }
   ],
   "source": [
    "\n",
    "np.linspace(0, 1, 5)"
   ]
  }
 ],
 "metadata": {
  "kernelspec": {
   "display_name": "Python 3",
   "language": "python",
   "name": "python3"
  },
  "language_info": {
   "codemirror_mode": {
    "name": "ipython",
    "version": 3
   },
   "file_extension": ".py",
   "mimetype": "text/x-python",
   "name": "python",
   "nbconvert_exporter": "python",
   "pygments_lexer": "ipython3",
   "version": "3.11.9"
  }
 },
 "nbformat": 4,
 "nbformat_minor": 5
}
