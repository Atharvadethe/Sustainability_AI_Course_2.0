{
 "cells": [
  {
   "cell_type": "code",
   "execution_count": 4,
   "id": "0cf72925",
   "metadata": {},
   "outputs": [
    {
     "name": "stdout",
     "output_type": "stream",
     "text": [
      "2\n",
      "[1 2 3]\n",
      "[[1 2 3]\n",
      " [4 5 6]]\n",
      "[[[ 1  2  3]\n",
      "  [ 4  5  6]]\n",
      "\n",
      " [[ 7  8  9]\n",
      "  [10 11 12]]]\n",
      "Number of dimensions: 3\n"
     ]
    }
   ],
   "source": [
    "import numpy as np\n",
    "array_0d = np.array(2)\n",
    "print(array_0d)\n",
    "\n",
    "array_1d = np.array([1, 2, 3])\n",
    "print(array_1d)\n",
    "\n",
    "array_2d = np.array([[1, 2, 3], [4, 5, 6]])\n",
    "print(array_2d)\n",
    "\n",
    "array_1d.ndim\n",
    "\n",
    "array_3d = np.array([\n",
    "    [[1, 2, 3], [4, 5, 6]],\n",
    "    [[7, 8, 9], [10, 11, 12]]\n",
    "])\n",
    "print(array_3d)\n",
    "print(\"Number of dimensions:\", array_3d.ndim)\n"
   ]
  },
  {
   "cell_type": "code",
   "execution_count": 6,
   "id": "00028f71",
   "metadata": {},
   "outputs": [
    {
     "name": "stdout",
     "output_type": "stream",
     "text": [
      "Temperatures array:\n"
     ]
    }
   ],
   "source": [
    "temperatures = [[75.2,77.1,74.5,79.3,82.6,81.2,77.8], [78,88,76,75,79,70,72]]\n",
    "\n",
    "temperatures_array = np.array(temperatures)\n",
    "print(\"Temperatures array:\")\n"
   ]
  },
  {
   "cell_type": "code",
   "execution_count": 9,
   "id": "c712ebb4",
   "metadata": {},
   "outputs": [
    {
     "name": "stdout",
     "output_type": "stream",
     "text": [
      "Reshaped temperatures array:\n",
      " [[75.2 77.1 74.5 79.3 82.6 81.2 77.8]\n",
      " [78.  88.  76.  75.  79.  70.  72. ]]\n",
      "Transposed temperatures array:\n",
      " [[75.2 78. ]\n",
      " [77.1 88. ]\n",
      " [74.5 76. ]\n",
      " [79.3 75. ]\n",
      " [82.6 79. ]\n",
      " [81.2 70. ]\n",
      " [77.8 72. ]]\n",
      "Flattened temperatures array: [75.2 77.1 74.5 79.3 82.6 81.2 77.8 78.  88.  76.  75.  79.  70.  72. ]\n"
     ]
    }
   ],
   "source": [
    "# Reshape the array\n",
    "reshaped_temperatures = temperatures_array.reshape(2, 7)\n",
    "print(\"Reshaped temperatures array:\\n\", reshaped_temperatures)\n",
    "\n",
    "# Transpose the array\n",
    "transposed_temperatures = temperatures_array.transpose()\n",
    "print(\"Transposed temperatures array:\\n\", transposed_temperatures)\n",
    "\n",
    "# Flatten the array\n",
    "flattened_temperatures = temperatures_array.flatten()\n",
    "print(\"Flattened temperatures array:\", flattened_temperatures)\n"
   ]
  }
 ],
 "metadata": {
  "kernelspec": {
   "display_name": "Python 3",
   "language": "python",
   "name": "python3"
  },
  "language_info": {
   "codemirror_mode": {
    "name": "ipython",
    "version": 3
   },
   "file_extension": ".py",
   "mimetype": "text/x-python",
   "name": "python",
   "nbconvert_exporter": "python",
   "pygments_lexer": "ipython3",
   "version": "3.11.9"
  }
 },
 "nbformat": 4,
 "nbformat_minor": 5
}
