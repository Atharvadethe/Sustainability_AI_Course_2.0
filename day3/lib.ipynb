{
 "cells": [
  {
   "cell_type": "code",
   "execution_count": 4,
   "id": "0cf72925",
   "metadata": {},
   "outputs": [
    {
     "name": "stdout",
     "output_type": "stream",
     "text": [
      "2\n",
      "[1 2 3]\n",
      "[[1 2 3]\n",
      " [4 5 6]]\n",
      "[[[ 1  2  3]\n",
      "  [ 4  5  6]]\n",
      "\n",
      " [[ 7  8  9]\n",
      "  [10 11 12]]]\n",
      "Number of dimensions: 3\n"
     ]
    }
   ],
   "source": [
    "import numpy as np\n",
    "array_0d = np.array(2)\n",
    "print(array_0d)\n",
    "\n",
    "array_1d = np.array([1, 2, 3])\n",
    "print(array_1d)\n",
    "\n",
    "array_2d = np.array([[1, 2, 3], [4, 5, 6]])\n",
    "print(array_2d)\n",
    "\n",
    "array_1d.ndim\n",
    "\n",
    "array_3d = np.array([\n",
    "    [[1, 2, 3], [4, 5, 6]],\n",
    "    [[7, 8, 9], [10, 11, 12]]\n",
    "])\n",
    "print(array_3d)\n",
    "print(\"Number of dimensions:\", array_3d.ndim)\n"
   ]
  },
  {
   "cell_type": "code",
   "execution_count": 6,
   "id": "00028f71",
   "metadata": {},
   "outputs": [
    {
     "name": "stdout",
     "output_type": "stream",
     "text": [
      "Temperatures array:\n"
     ]
    }
   ],
   "source": [
    "temperatures = [[75.2,77.1,74.5,79.3,82.6,81.2,77.8], [78,88,76,75,79,70,72]]\n",
    "\n",
    "temperatures_array = np.array(temperatures)\n",
    "print(\"Temperatures array:\")\n"
   ]
  },
  {
   "cell_type": "code",
   "execution_count": 9,
   "id": "c712ebb4",
   "metadata": {},
   "outputs": [
    {
     "name": "stdout",
     "output_type": "stream",
     "text": [
      "Reshaped temperatures array:\n",
      " [[75.2 77.1 74.5 79.3 82.6 81.2 77.8]\n",
      " [78.  88.  76.  75.  79.  70.  72. ]]\n",
      "Transposed temperatures array:\n",
      " [[75.2 78. ]\n",
      " [77.1 88. ]\n",
      " [74.5 76. ]\n",
      " [79.3 75. ]\n",
      " [82.6 79. ]\n",
      " [81.2 70. ]\n",
      " [77.8 72. ]]\n",
      "Flattened temperatures array: [75.2 77.1 74.5 79.3 82.6 81.2 77.8 78.  88.  76.  75.  79.  70.  72. ]\n"
     ]
    }
   ],
   "source": [
    "# Reshape the array\n",
    "reshaped_temperatures = temperatures_array.reshape(2, 7)\n",
    "print(\"Reshaped temperatures array:\\n\", reshaped_temperatures)\n",
    "\n",
    "# Transpose the array\n",
    "transposed_temperatures = temperatures_array.transpose()\n",
    "print(\"Transposed temperatures array:\\n\", transposed_temperatures)\n",
    "\n",
    "# Flatten the array\n",
    "flattened_temperatures = temperatures_array.flatten()\n",
    "print(\"Flattened temperatures array:\", flattened_temperatures)\n"
   ]
  },
  {
   "cell_type": "code",
   "execution_count": null,
   "id": "5108660c",
   "metadata": {},
   "outputs": [
    {
     "name": "stdout",
     "output_type": "stream",
     "text": [
      "Addition: [11 22 33 44]\n",
      "Subtraction: [ -9 -18 -27 -36]\n",
      "Multiplication: [ 10  40  90 160]\n",
      "Division: [0.1 0.1 0.1 0.1]\n",
      "Power (a squared): [ 1  4  9 16]\n"
     ]
    }
   ],
   "source": [
    "a = np.array([1, 2, 3, 4])\n",
    "b = np.array([10, 20, 30, 40])\n",
    "\n",
    "# Addition\n",
    "add_result = np.add(a, b)\n",
    "print(\"Addition:\", add_result)\n",
    "\n",
    "# Subtraction\n",
    "sub_result = np.subtract(a, b)\n",
    "print(\"Subtraction:\", sub_result)\n",
    "\n",
    "# Multiplication\n",
    "mul_result = np.multiply(a, b)\n",
    "print(\"Multiplication:\", mul_result)\n",
    "\n",
    "# Division\n",
    "div_result = np.divide(a, b)\n",
    "print(\"Division:\", div_result)\n",
    "\n",
    "# Power\n",
    "pow_result = np.power(a, 2)\n",
    "print(\"Power (a squared):\", pow_result)\n"
   ]
  },
  {
   "cell_type": "code",
   "execution_count": 12,
   "id": "f7d409c1",
   "metadata": {},
   "outputs": [
    {
     "data": {
      "text/plain": [
       "array([[ 0,  1,  2,  3,  4],\n",
       "       [ 5,  6,  7,  8,  9],\n",
       "       [10, 11, 12, 13, 14]])"
      ]
     },
     "execution_count": 12,
     "metadata": {},
     "output_type": "execute_result"
    }
   ],
   "source": [
    "np.arange(15).reshape(3,5)  \n",
    "\n",
    "\n",
    "\n"
   ]
  },
  {
   "cell_type": "code",
   "execution_count": 13,
   "id": "cc96d1c5",
   "metadata": {},
   "outputs": [
    {
     "data": {
      "text/plain": [
       "array([[1., 1., 1., 1.],\n",
       "       [1., 1., 1., 1.]])"
      ]
     },
     "execution_count": 13,
     "metadata": {},
     "output_type": "execute_result"
    }
   ],
   "source": [
    "np.ones((2,4))\n"
   ]
  },
  {
   "cell_type": "code",
   "execution_count": 14,
   "id": "c87fbffa",
   "metadata": {},
   "outputs": [
    {
     "data": {
      "text/plain": [
       "array([[0., 0., 0., 0., 0.],\n",
       "       [0., 0., 0., 0., 0.],\n",
       "       [0., 0., 0., 0., 0.]])"
      ]
     },
     "execution_count": 14,
     "metadata": {},
     "output_type": "execute_result"
    }
   ],
   "source": [
    "np.zeros((3,5))\n"
   ]
  },
  {
   "cell_type": "code",
   "execution_count": 15,
   "id": "afdb65ca",
   "metadata": {},
   "outputs": [
    {
     "data": {
      "text/plain": [
       "array([0. , 0.3, 0.6, 0.9, 1.2, 1.5, 1.8, 2.1, 2.4, 2.7, 3. , 3.3, 3.6,\n",
       "       3.9, 4.2, 4.5, 4.8])"
      ]
     },
     "execution_count": 15,
     "metadata": {},
     "output_type": "execute_result"
    }
   ],
   "source": [
    "np.arange(0,5,0.3)"
   ]
  },
  {
   "cell_type": "code",
   "execution_count": 17,
   "id": "547cd39d",
   "metadata": {},
   "outputs": [
    {
     "data": {
      "text/plain": [
       "array([0.  , 0.25, 0.5 , 0.75, 1.  ])"
      ]
     },
     "execution_count": 17,
     "metadata": {},
     "output_type": "execute_result"
    }
   ],
   "source": [
    "\n",
    "np.linspace(0, 1, 5)"
   ]
  },
  {
   "cell_type": "code",
   "execution_count": 19,
   "id": "902f1de3",
   "metadata": {},
   "outputs": [
    {
     "name": "stdout",
     "output_type": "stream",
     "text": [
      "Mean: 5.5\n",
      "Median: 5.5\n",
      "Standard Deviation: 2.8722813232690143\n",
      "Variance: 8.25\n"
     ]
    }
   ],
   "source": [
    "# Mean\n",
    "data = np.array([1, 2, 3, 4, 5, 6, 7, 8, 9, 10])\n",
    "mean_value = np.mean(data)\n",
    "print(\"Mean:\", mean_value)\n",
    "\n",
    "# Median\n",
    "median_value = np.median(data)\n",
    "print(\"Median:\", median_value)\n",
    "\n",
    "# Standard Deviation\n",
    "std_value = np.std(data)\n",
    "print(\"Standard Deviation:\", std_value)\n",
    "\n",
    "# Variance\n",
    "var_value = np.var(data)\n",
    "print(\"Variance:\", var_value)"
   ]
  },
  {
   "cell_type": "markdown",
   "id": "465d749b",
   "metadata": {},
   "source": [
    "Problem Statement:\n",
    "Consider the following arrays:\n",
    "\n",
    "1. Arrays for Arithmetic Operations:\n",
    "\n",
    "Array A: [15, 25, 35, 45, 55]\n",
    "Array B: [5, 10, 15, 20, 25]\n",
    "Array for Statistical Operations:\n",
    "\n",
    "Array C: [12, 22, 32, 42, 52, 62, 72, 82, 92, 102]\n",
    "Arrays for String Functions:\n",
    "\n",
    "String Array X: ['Hello', 'Data', 'Science', 'Class', 'Learners']\n",
    "String Array Y: ['World', 'Analysis', 'is', 'Fun', '2023']\n",
    "Steps to Perform:\n",
    "\n",
    "Perform element-wise addition, subtraction, multiplication, division, and power operations on Arrays A and B\n",
    "Calculate the median, mean, standard deviation, and variance for Array C\n",
    "Concatenate corresponding elements of String Arrays X and Y\n",
    "Convert all elements in String Array X to uppercase\n",
    "Replace a specific substring in String Array Y with another substring"
   ]
  },
  {
   "cell_type": "code",
   "execution_count": 21,
   "id": "32cd286b",
   "metadata": {},
   "outputs": [
    {
     "name": "stdout",
     "output_type": "stream",
     "text": [
      "Addition of A and B: [20 35 50 65 80]\n",
      "Subtraction of A and B: [10 15 20 25 30]\n",
      "Multiplication of A and B: [  75  250  525  900 1375]\n",
      "Division of A and B: [3.         2.5        2.33333333 2.25       2.2       ]\n",
      "Power of A (A squared): [ 225  625 1225 2025 3025]\n"
     ]
    }
   ],
   "source": [
    "A = np.array([15, 25, 35, 45, 55])\n",
    "B = np.array([5, 10, 15, 20, 25])\n",
    "\n",
    "add_AB = np.add(A, B)\n",
    "print(\"Addition of A and B:\", add_AB)\n",
    "\n",
    "sub_AB = np.subtract(A, B)\n",
    "print(\"Subtraction of A and B:\", sub_AB)\n",
    "\n",
    "mul_AB = np.multiply(A, B)\n",
    "print(\"Multiplication of A and B:\", mul_AB)\n",
    "\n",
    "div_AB = np.divide(A, B)\n",
    "print(\"Division of A and B:\", div_AB)\n",
    "\n",
    "pow_AB = np.power(A, 2)\n",
    "print(\"Power of A (A squared):\", pow_AB)\n",
    "\n"
   ]
  },
  {
   "cell_type": "code",
   "execution_count": null,
   "id": "8fb909cd",
   "metadata": {},
   "outputs": [],
   "source": [
    "C = np.array([12, 22, 32, 42, 52, 62, 72, 82, 92, 102])\n",
    "\n",
    "mean_c = np.mean(C)\n",
    "print(\"Mean of C:\", mean_c)\n",
    "\n",
    "median_c = np.median(C)\n",
    "print(\"Median of C:\", median_c)\n",
    "\n",
    "std_c = np.std(C)\n",
    "print(\"Standard Deviation of C:\", std_c)\n",
    "\n",
    "var_c = np.var(C)\n",
    "print(\"Variance of C:\", var_c)\n",
    "\n"
   ]
  },
  {
   "cell_type": "code",
   "execution_count": 27,
   "id": "8e69ca58",
   "metadata": {},
   "outputs": [
    {
     "name": "stdout",
     "output_type": "stream",
     "text": [
      "Concatenated Strings: ['Hello World' 'Data Analysis' 'Science is' 'Class Fun' 'Learners 2023']\n",
      "Uppercase X: ['HELLO' 'DATA' 'SCIENCE' 'CLASS' 'LEARNERS']\n",
      "Replaced Y: ['World' 'Analysare' 'are' 'Fun' '2023']\n"
     ]
    }
   ],
   "source": [
    "X = np.array(['Hello', 'Data', 'Science', 'Class', 'Learners'])\n",
    "Y = np.array(['World', 'Analysis', 'is', 'Fun', '2023'])\n",
    "\n",
    "# Concatenate corresponding elements of String Arrays X and Y with a space\n",
    "concatenated_strings = np.char.add(X, np.char.add(' ', Y))\n",
    "print(\"Concatenated Strings:\", concatenated_strings)\n",
    "\n",
    "# Convert all strings in X to uppercase\n",
    "uppercase_X = np.char.upper(X)\n",
    "print(\"Uppercase X:\", uppercase_X)\n",
    "\n",
    "# Replace a specific substring in String Array Y with another substring\n",
    "replaced_Y = np.char.replace(Y, 'is', 'are')\n",
    "print(\"Replaced Y:\", replaced_Y)"
   ]
  },
  {
   "cell_type": "markdown",
   "id": "5f5efb13",
   "metadata": {},
   "source": [
    "Assisted Practice\n",
    "Problem Statement:\n",
    "Create a 1D NumPy array with at least 10 elements\n",
    "Create a 2D NumPy array with a minimum of 3 rows and 4 columns\n",
    "Create a 3D NumPy array with at least 2 matrices, each containing 2 rows and 3 columns\n",
    "Accessing Elements in Arrays\n",
    "Access and print various elements from 1D, 2D, and, 3D using positive indexing\n",
    "Perform and print some basic arithmetic operations (like addition, subtraction) using elements accessed from 1D, 2D, and, 3D arrays\n",
    "Access and print elements using negative indices in all three arrays"
   ]
  },
  {
   "cell_type": "code",
   "execution_count": null,
   "id": "08705162",
   "metadata": {},
   "outputs": [
    {
     "name": "stdout",
     "output_type": "stream",
     "text": [
      "1D Array: [ 5 10 15 20 25 30 35 40 45 50]\n",
      "2D Array:\n",
      " [[ 1  2  3  4]\n",
      " [ 5  6  7  8]\n",
      " [ 9 10 11 12]]\n",
      "3D Array:\n",
      " [[[ 1  2  3]\n",
      "  [ 4  5  6]]\n",
      "\n",
      " [[ 7  8  9]\n",
      "  [10 11 12]]]\n",
      "1D, 3rd element: 15\n",
      "2D, 2nd row, 3rd column: 7\n",
      "3D, 2nd matrix, 1st row, 2nd column: 8\n",
      "Addition of first elements from each array: 7\n",
      "Subtraction of elements: -7\n",
      "1D, last element: 50\n",
      "2D, last row, last column: 12\n",
      "3D, last matrix, last row, last column: 12\n"
     ]
    }
   ],
   "source": [
    "# 1D array with at least 10 elements\n",
    "import numpy as np\n",
    "arr_1d = np.array([5, 10, 15, 20, 25, 30, 35, 40, 45, 50])\n",
    "print(\"1D Array:\", arr_1d)\n",
    "\n",
    "# 2D array with 3 rows and 4 columns\n",
    "arr_2d = np.array([\n",
    "    [1, 2, 3, 4],\n",
    "    [5, 6, 7, 8],\n",
    "    [9, 10, 11, 12]\n",
    "])\n",
    "print(\"2D Array:\\n\", arr_2d)\n",
    "\n",
    "# 3D array: 2 matrices, each 2x3\n",
    "arr_3d = np.array([\n",
    "    [[1, 2, 3], [4, 5, 6]],\n",
    "    [[7, 8, 9], [10, 11, 12]]\n",
    "])\n",
    "print(\"3D Array:\\n\", arr_3d)\n",
    "\n",
    "# Access\n",
    "print(\"1D, 3rd element:\", arr_1d[2])\n",
    "print(\"2D, 2nd row, 3rd column:\", arr_2d[1, 2])\n",
    "print(\"3D, 2nd matrix, 1st row, 2nd column:\", arr_3d[1, 0, 1])\n",
    "\n",
    "# Arithmetic operations\n",
    "add_result = arr_1d[0] + arr_2d[0, 0] + arr_3d[0, 0, 0]\n",
    "print(\"Addition of first elements from each array:\", add_result)\n",
    "\n",
    "sub_result = arr_1d[1] - arr_2d[1, 1] - arr_3d[1, 1, 1]\n",
    "print(\"Subtraction of elements:\", sub_result)\n",
    "\n",
    "# Accessing elements using negative indexing\n",
    "print(\"1D, last element:\", arr_1d[-1])\n",
    "print(\"2D, last row, last column:\", arr_2d[-1, -1])\n",
    "print(\"3D, last matrix, last row, last column:\", arr_3d[-1, -1, -1])"
   ]
  }
 ],
 "metadata": {
  "kernelspec": {
   "display_name": "Python 3",
   "language": "python",
   "name": "python3"
  },
  "language_info": {
   "codemirror_mode": {
    "name": "ipython",
    "version": 3
   },
   "file_extension": ".py",
   "mimetype": "text/x-python",
   "name": "python",
   "nbconvert_exporter": "python",
   "pygments_lexer": "ipython3",
   "version": "3.11.9"
  }
 },
 "nbformat": 4,
 "nbformat_minor": 5
}
